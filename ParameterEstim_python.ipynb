{
 "cells": [
  {
   "cell_type": "code",
   "execution_count": 1,
   "id": "f3436af2-d60e-4872-81cf-2f996a4a4ada",
   "metadata": {
    "tags": []
   },
   "outputs": [],
   "source": [
    "import torch \n",
    "import torchdiffeq\n",
    "import torch.nn as nn\n",
    "import math\n",
    "import numpy as np\n",
    "#from torchdiffeq import odeint as odeint"
   ]
  },
  {
   "cell_type": "code",
   "execution_count": 2,
   "id": "3b00ff40-c50e-4fd0-a639-3551e25a0ac9",
   "metadata": {
    "tags": []
   },
   "outputs": [],
   "source": [
    "#phi(a, gamma_a) = a ./ (a + gamma_a)\n",
    "\n",
    "class model(nn.Module):\n",
    "    def __init__(self, params, device):\n",
    "        super().__init__()\n",
    "        self.params = nn.Parameter(params)\n",
    "        \n",
    "    def phi(self, u, γu):\n",
    "        return u / (u+γu)\n",
    "        \n",
    "    def forward(self, t, u):\n",
    "        βa, βB, βE1, βE2, βh1, βh2, βh3, βM1, βM2, βp, γa, γB, γh, γp, μaE, μaM, μhM, μpB, μpE, q = self.params\n",
    "        B, E, M, a, h, p = u\n",
    "        \n",
    "        \n",
    "        nextB = βB*self.phi(p,γp)*B - q*B\n",
    "        nextE = (βE1*self.phi(a, γa) + βE2*(1-self.phi(B, γB))*self.phi(p, γp))*E - q*E\n",
    "        nextM = (βM1*self.phi(a, γa) + βM2*self.phi(h, γh))*M - q*M\n",
    "\n",
    "        nexta = βa*self.phi(p, γp)*B - q*a - (μaE*E + μaM*M)*self.phi(a, γa)\n",
    "        nexth = βh1*self.phi(a, γa)*E + βh2*self.phi(p, γp)*B - q*h- μhM*self.phi(h, γh)*M + βh3*(1-self.phi(B, γB))*self.phi(p, γp)*E \n",
    "            \n",
    "        nextp = βp*q*(math.cos(t)+1)**3 - q*p - (μpB*B + μpE*E)*self.phi(p, γp)\n",
    "        \n",
    "        return torch.stack([nextB,nextE, nextM, nexta, nexth, nextp])"
   ]
  },
  {
   "cell_type": "code",
   "execution_count": 3,
   "id": "7891272b-8008-4797-9f8c-f2cf3c73459c",
   "metadata": {
    "tags": []
   },
   "outputs": [],
   "source": [
    "u0 = torch.tensor([0.0004706, 0.0004706, 0.0004706, 9.7079, 7.9551, 32.061])\n",
    "tspan = (0.0,500.0);\n",
    "p = torch.nn.Parameter(torch.tensor([1e3, # betaa\n",
    "    0.35, # betab\n",
    "    0.4, # betaE1\n",
    "    0.2, # betaE2\n",
    "    75, #betah1\n",
    "    150, #betah2\n",
    "    10,  #betah3                   \n",
    "    1.0, #betaM1\n",
    "    0.9, #betaM2\n",
    "    100, #betap\n",
    "    100, #gammaa\n",
    "    1000, # gammaB\n",
    "    5000, #gammah\n",
    "    100, # gammap\n",
    "    2500, # muaE\n",
    "    5000, # muaM\n",
    "    4000, # muhM\n",
    "    2000, #mupB\n",
    "    5000, #mupE\n",
    "    0.1]),requires_grad = True) #0.1 # q"
   ]
  },
  {
   "cell_type": "code",
   "execution_count": 4,
   "id": "ca104d4e-663e-411f-bc83-35005b6625eb",
   "metadata": {
    "tags": []
   },
   "outputs": [],
   "source": [
    "device = 'cpu'\n",
    "diffeq = model(p, device)"
   ]
  },
  {
   "cell_type": "code",
   "execution_count": 5,
   "id": "0b3e5f48-4c66-4138-89bb-af19ae04bcbf",
   "metadata": {
    "tags": []
   },
   "outputs": [
    {
     "data": {
      "text/plain": [
       "tensor([-7.0727e-06, -7.5530e-06, -4.7445e-06, -1.1689e+00, -7.7710e-01,\n",
       "         3.2538e+01], grad_fn=<StackBackward0>)"
      ]
     },
     "execution_count": 5,
     "metadata": {},
     "output_type": "execute_result"
    }
   ],
   "source": [
    "diffeq(1,u0)"
   ]
  },
  {
   "cell_type": "code",
   "execution_count": 6,
   "id": "bcb7d9b0-319c-40af-ba30-89eeee87b74a",
   "metadata": {
    "tags": []
   },
   "outputs": [],
   "source": [
    "from torchdiffeq import odeint_adjoint\n",
    "from torchdiffeq import odeint\n",
    "adjoint = True\n",
    "ode_integrator = odeint_adjoint if adjoint else odeint"
   ]
  },
  {
   "cell_type": "code",
   "execution_count": 7,
   "id": "f822805e-5178-48ab-bec3-93e07c82b09c",
   "metadata": {
    "tags": []
   },
   "outputs": [],
   "source": [
    "n_points = 400\n",
    "tmax = 400\n",
    "X = ode_integrator(diffeq, u0, torch.linspace(0, tmax, n_points, device=device))"
   ]
  },
  {
   "cell_type": "code",
   "execution_count": 8,
   "id": "58c0df35-6900-49fe-ab7d-9800ccf0bc88",
   "metadata": {
    "tags": []
   },
   "outputs": [
    {
     "data": {
      "text/plain": [
       "torch.Size([400, 6])"
      ]
     },
     "execution_count": 8,
     "metadata": {},
     "output_type": "execute_result"
    }
   ],
   "source": [
    "X.shape"
   ]
  },
  {
   "cell_type": "code",
   "execution_count": 9,
   "id": "46e3cf5e-7941-4c54-b19f-0cb0e8e81e8b",
   "metadata": {
    "tags": []
   },
   "outputs": [],
   "source": [
    "import matplotlib.pyplot as plt"
   ]
  },
  {
   "cell_type": "code",
   "execution_count": 10,
   "id": "776199f0-b470-4b08-83c4-21dee27c3f1d",
   "metadata": {
    "tags": []
   },
   "outputs": [
    {
     "data": {
      "text/plain": [
       "500"
      ]
     },
     "execution_count": 10,
     "metadata": {},
     "output_type": "execute_result"
    }
   ],
   "source": [
    "len(np.arange(0,300, 3/5))"
   ]
  },
  {
   "cell_type": "code",
   "execution_count": null,
   "id": "f0b14715-f48a-46d5-a69d-1f7488b1027a",
   "metadata": {
    "tags": []
   },
   "outputs": [],
   "source": [
    "order = [\"B\", \"E\", \"M\", \"a\", \"h\", \"p\"]\n",
    "for i in range(6):\n",
    "    #plt.plot(np.arange(0,300, 3/5), X[:,i].detach())\n",
    "    plt.plot(range(n_points), X[:,i])#.detach())\n",
    "    plt.title(\"{}\".format(order[i]))\n",
    "    plt.show()"
   ]
  },
  {
   "cell_type": "code",
   "execution_count": null,
   "id": "ddf4f8d1-7b3d-4f7f-96d6-58fa359e0fb5",
   "metadata": {
    "tags": []
   },
   "outputs": [],
   "source": [
    "# truth = u0; t_start = 400; t_end = 500; weight = u0\n",
    "def loss(sol, truth, t_start, t_end, weight):\n",
    "    \"\"\" loss computes a weighted mean squared error loss between a prediction (averaged across timepoints t_start to t_end) and ground truth weighted by a weight vector\n",
    "    truth (Vector): vector containing the ground truth\n",
    "    pred (Matrix): matrix with shape (variables, timepoints)\n",
    "    t_start (integer): first timepoint to pull to compute an average across time\n",
    "    t_end (integer): last timepoint to pull to compute an average across time\n",
    "    \"\"\"\n",
    "    #print((truth-torch.mean(sol[t_start:t_end,:], dim=0))**2 /weight)\n",
    "    #return sum((truth-torch.mean(sol[t_start:t_end,:], dim=0))**2 /weight )#(u0-mean(sol[:,t_start:t_end], dims=2))./ weight\n",
    "    s = (sum(truth[:3]) - sum(torch.mean(sol[t_start:t_end,:3], dim =0)) )**2 / sum(weight[:3])\n",
    "    return s + sum((truth[3:]-torch.mean(sol[t_start:t_end,3:], dim=0))**2 /weight[3:] ) #+ torch.var(sol[t_start:t_end,5])/weight[5]#(u0-mean(sol[:,t_start:t_end], dims=2))./ weight\n"
   ]
  },
  {
   "cell_type": "code",
   "execution_count": null,
   "id": "28629782-23df-4e03-8eb1-7d60b74752c6",
   "metadata": {
    "tags": []
   },
   "outputs": [],
   "source": [
    "n_epochs = 1000\n",
    "\n",
    "optimizer = torch.optim.Adam([{'params':diffeq.parameters(), 'lr':1e-2}])\n",
    "lambda1 = lambda epoch: (epoch-9)**(-1) if epoch >=100 else 1\n",
    "scheduler = torch.optim.lr_scheduler.LambdaLR(optimizer, lr_lambda=[lambda1])\n",
    "\n",
    "training_loss = []\n",
    "\n",
    "for epoch in range(n_epochs):\n",
    "    \n",
    "    print(\"epoch\", epoch)\n",
    "    # zero out gradient information\n",
    "    optimizer.zero_grad()\n",
    "    \n",
    "    # get ODE solution for timepoints 0 to 500, 1000 discrete points\n",
    "    X = ode_integrator(diffeq, u0, torch.linspace(0, 300, 500, device=device))\n",
    "    \n",
    "    # compute the loss \n",
    "    l = loss(X,u0,300,500, u0)\n",
    "    print(l)\n",
    "    \n",
    "    # store loss information, do not track gradient information for this operation\n",
    "    with torch.no_grad():\n",
    "        training_loss.append(l.detach().cpu())\n",
    "    \n",
    "    # compute gradient information\n",
    "    l.backward()\n",
    "    \n",
    "    # update parameters based on gradient information\n",
    "    optimizer.step()\n",
    "    \n",
    "    # update scheduler\n",
    "    scheduler.step()\n"
   ]
  },
  {
   "cell_type": "code",
   "execution_count": null,
   "id": "e89ca68c-9c82-4e5e-afac-238b9002c5aa",
   "metadata": {
    "tags": []
   },
   "outputs": [],
   "source": [
    "#dir(diffeq)\n",
    "#torch.save(diffeq.params,\"params.pt\")"
   ]
  },
  {
   "cell_type": "code",
   "execution_count": null,
   "id": "91a66866-8d30-4e22-9c5d-5932c6a2415f",
   "metadata": {
    "tags": []
   },
   "outputs": [],
   "source": [
    "plt.plot(range(7), training_loss)"
   ]
  },
  {
   "cell_type": "code",
   "execution_count": null,
   "id": "3b11942a-7818-4c9d-8c5f-3cfe94d274ef",
   "metadata": {
    "tags": []
   },
   "outputs": [],
   "source": [
    "X = ode_integrator(diffeq, u0, torch.linspace(0, 300, 500, device=device))"
   ]
  },
  {
   "cell_type": "code",
   "execution_count": null,
   "id": "a05e556b-9d41-4e4c-a922-ce966a438494",
   "metadata": {
    "tags": []
   },
   "outputs": [],
   "source": [
    "for i in range(6):\n",
    "    plt.plot(range(500), X[:,i].detach())\n",
    "    plt.show()"
   ]
  },
  {
   "cell_type": "code",
   "execution_count": null,
   "id": "af51d410-ed7b-4d76-8547-03a4cb7ae1f4",
   "metadata": {},
   "outputs": [],
   "source": []
  }
 ],
 "metadata": {
  "kernelspec": {
   "display_name": "Python 3",
   "language": "python",
   "name": "python3"
  },
  "language_info": {
   "codemirror_mode": {
    "name": "ipython",
    "version": 3
   },
   "file_extension": ".py",
   "mimetype": "text/x-python",
   "name": "python",
   "nbconvert_exporter": "python",
   "pygments_lexer": "ipython3",
   "version": "3.7.12"
  }
 },
 "nbformat": 4,
 "nbformat_minor": 5
}
