{
 "cells": [
  {
   "cell_type": "code",
   "execution_count": 1,
   "id": "f64d4a1d-7326-4e7c-b3cd-8cd61d11e703",
   "metadata": {
    "tags": []
   },
   "outputs": [],
   "source": [
    "using DifferentialEquations\n",
    "using Plots\n",
    "using Statistics\n",
    "using LinearAlgebra\n",
    "using DiffEqParamEstim"
   ]
  },
  {
   "cell_type": "code",
   "execution_count": 2,
   "id": "3e0f2b49-2df9-4a26-a3f7-f07e4ac7635a",
   "metadata": {
    "tags": []
   },
   "outputs": [
    {
     "data": {
      "text/plain": [
       "phi (generic function with 1 method)"
      ]
     },
     "execution_count": 2,
     "metadata": {},
     "output_type": "execute_result"
    }
   ],
   "source": [
    "phi(a, gamma_a) = a ./ (a + gamma_a)"
   ]
  },
  {
   "cell_type": "code",
   "execution_count": 3,
   "id": "aa1d1ebd-88c5-4395-b7e0-222b96838bd2",
   "metadata": {
    "tags": []
   },
   "outputs": [
    {
     "data": {
      "text/plain": [
       "f_old (generic function with 1 method)"
      ]
     },
     "execution_count": 3,
     "metadata": {},
     "output_type": "execute_result"
    }
   ],
   "source": [
    "function f_old(du,u,p0,t)\n",
    "    B, E, M, a, h, p = u\n",
    "    betaa, betab, betaE1, betaE2, betah1, betah2, betaM1, betaM2, betap, gammaa, gammaB, gammah, gammap, muaE, muaM, muhM, mupB, mupE, q = p0\n",
    "\n",
    "    du[1]= betab.*phi(u[6],gammap).*u[1] - q.*u[1]\n",
    "    du[2] = (betaE1.*phi(u[4], gammaa) + betaE2.*(1-phi(u[1], gammaB)).*phi(u[6], gammap)).*u[2] - q.*u[2]\n",
    "    du[3] = (betaM1.*phi(u[4], gammaa) + betaM2.*phi(u[5], gammah)).*u[3] - q.*u[3]\n",
    "\n",
    "    du[4] = betaa.*phi(u[6], gammap).*u[1] - q.*u[4] - (muaE.*u[2] + muaM.*u[3]).*u[4]\n",
    "    du[5] = betah1.*phi(u[4], gammaa).*u[2] + betah2.*phi(u[6], gammap).*u[1] - q.*u[5] - muhM.*u[5].*u[3]\n",
    "    du[6] = betap.*q.*(cos.(t)+1).^3 - q.*u[6] - (mupB.*u[1] + mupE.*u[2]).*u[6]\n",
    "end\n"
   ]
  },
  {
   "cell_type": "code",
   "execution_count": 4,
   "id": "ff390b7f-8daa-47d2-8f39-17f16121eaf8",
   "metadata": {
    "tags": []
   },
   "outputs": [
    {
     "data": {
      "text/plain": [
       "f (generic function with 1 method)"
      ]
     },
     "execution_count": 4,
     "metadata": {},
     "output_type": "execute_result"
    }
   ],
   "source": [
    "function f(du,u,p0,t)\n",
    "    B, E, M, a, h, p = u\n",
    "    betaa, betab, betaE1, betaE2, betah1, betah2,betah3, betaM1, betaM2, betap, gammaa, gammaB, gammah, gammap, muaE, muaM, muhM, mupB, mupE, q = p0\n",
    "\n",
    "    du[1]= betab.*phi(p,gammap).*B - q.*B\n",
    "    du[2] = (betaE1.*phi(a, gammaa) + betaE2.*(1-phi(B, gammaB)).*phi(p, gammap)).*E - q.*E\n",
    "    du[3] = (betaM1.*phi(a, gammaa) + betaM2.*phi(h, gammah)).*M - q.*M\n",
    "\n",
    "    du[4] = betaa.*phi(p, gammap).*B - q.*a - (muaE.*E + muaM.*M).*phi(a, gammaa)\n",
    "    du[5] = betah1.*phi(a, gammaa).*E + betah2.*phi(p, gammap).*B + betah3.*(1-phi(B,gammaB)).*phi(p,gammap)*E- q.*h- muhM.*phi(h, gammah).*M\n",
    "    du[6] = betap.*q.*(cos.(t)+1).^3 - q.*p - (mupB.*B + mupE.*E).*phi(p, gammap)\n",
    "end"
   ]
  },
  {
   "cell_type": "code",
   "execution_count": 5,
   "id": "73c108e2-aa42-4a77-b152-f60c5e905649",
   "metadata": {
    "tags": []
   },
   "outputs": [],
   "source": [
    "# betaa, betab, betaE1, betaE2, betah1, betah2, betaM1, betaM2, betap, gammaa, gammaB, gammah, gammap, muaE, muaM, muhM, mupB, mupE, q\n",
    "u0 = [0.0004706; 0.0004706; 0.0004706; 9.7079; 7.9551; 32.061]\n",
    "tspan = (0.0,1500.0);\n",
    "p = [3e5, # betaa 1e7\n",
    "    1.2, # betab\n",
    "    0.8, # betaE1\n",
    "    0.6, # betaE2\n",
    "    400, #betah1 150\n",
    "    33000, #betah2\n",
    "    10000,  #betah3                   \n",
    "    0.827, #betaM1 0.8\n",
    "    0.5, #betaM2\n",
    "    1000, #betap 10000\n",
    "    200, #gammaa\n",
    "    10, # gammaB\n",
    "    150, #gammah\n",
    "    400, # gammap 400\n",
    "    50000, # muaE 25000\n",
    "    40000, # muaM 50000\n",
    "    3000, # muhM 400\n",
    "    200000, #mupB\n",
    "    5000000, #mupE\n",
    "    0.05]\n",
    "\n",
    "# solve the ODE\n",
    "prob = ODEProblem(f,u0,tspan,p)\n",
    "sol = solve(prob);#, Rosenbrock23())\n"
   ]
  },
  {
   "cell_type": "code",
   "execution_count": 7,
   "id": "aed58839-f64b-4826-bdc1-a8f57c65ec95",
   "metadata": {
    "tags": []
   },
   "outputs": [
    {
     "data": {
      "text/plain": [
       "6×1 Matrix{Float64}:\n",
       "  0.00023302395318581983\n",
       "  0.000601611866930658\n",
       "  0.0012546882226532191\n",
       "  6.124071679095624\n",
       "  7.659684051630072\n",
       " 13.327153899240617"
      ]
     },
     "execution_count": 7,
     "metadata": {},
     "output_type": "execute_result"
    }
   ],
   "source": [
    "mean(sol, dims = 2)"
   ]
  },
  {
   "cell_type": "code",
   "execution_count": null,
   "id": "adc5ac19-5d06-477d-9817-85fb13660adf",
   "metadata": {
    "tags": []
   },
   "outputs": [],
   "source": [
    "vars = ['B', \"E\", \"M\", \"a\", \"h\", \"p\"]\n",
    "for i in 1:6\n",
    "    d = plot(sol.t[7239-500:7239], sol[i,7239-500:7239], title = vars[i], legend = false)\n",
    "    #d = plot(sol.t, sol[i,:], title = vars[i], legend = false)\n",
    "    display(d)\n",
    "end"
   ]
  },
  {
   "cell_type": "code",
   "execution_count": null,
   "id": "0dc41c37-b8be-4dfe-a00b-9925b761c93a",
   "metadata": {
    "tags": []
   },
   "outputs": [],
   "source": [
    "(maximum(sol[:,500:1000], dims=2) + minimum(sol[:,500:1000], dims=2))/2"
   ]
  },
  {
   "cell_type": "code",
   "execution_count": null,
   "id": "a7dac2c5-0e29-4cae-b3c9-9fd7145689eb",
   "metadata": {
    "tags": []
   },
   "outputs": [],
   "source": [
    "u0"
   ]
  },
  {
   "cell_type": "code",
   "execution_count": null,
   "id": "2c0ea43a-a58c-4c68-988c-7c351a956e2e",
   "metadata": {
    "tags": []
   },
   "outputs": [],
   "source": [
    "( 6.875143072809616 -  7.9551) /  7.9551"
   ]
  },
  {
   "cell_type": "markdown",
   "id": "0a33f8e0-56e3-4b00-8bdd-cac8cc36d8e0",
   "metadata": {},
   "source": [
    "# Loss function"
   ]
  },
  {
   "cell_type": "markdown",
   "id": "07a70e3e-b12c-43bc-a2d8-4152f60ebabb",
   "metadata": {},
   "source": [
    "$$\\text{MAPE}_{t_1:t_2}(x,x^\\text{obs}) = \\frac{1}{4}\\sum_{i=1}^4  \\left|\\frac{x-x^\\text{obs}}{x^\\text{obs}}\\right|,$$\n",
    "\n",
    "where $x = \\left[\\frac{1}{3}(\\bar B + \\bar E + \\bar M), \\bar a, \\bar h, \\bar p\\right]$, $x^\\text{obs} = \\left[\\frac{1}{3} (B^\\text{obs} + E^\\text{obs} + M^\\text{obs}), a^\\text{obs}, h^\\text{obs}, p^\\text{obs}\\right]$, and $\\bar z $ for some $z$ can be defined as $\\bar z = \\frac{1}{2}\\big(\\text{max}(z_{t_1:t_2}) + \\text{min}(z_{t_1:t_2})\\big)$."
   ]
  },
  {
   "cell_type": "code",
   "execution_count": null,
   "id": "5dc93f56-aa24-48d3-b9d6-4c67e66abbc7",
   "metadata": {
    "tags": []
   },
   "outputs": [],
   "source": [
    "function loss(truth, sol, tpts, max_t)#, truth, t_start, t_end, weight)\n",
    "    \"\"\" loss computes MAPE (averaged across timepoints length(sol) - tpts  to length(sol)) and ground truth weighted by a weight vector\n",
    "    truth (Vector): vector containing the ground truth\n",
    "    pred (Matrix): matrix with shape (variables, timepoints)\n",
    "    t_start (integer): first timepoint to pull to compute an average across time\n",
    "    t_end (integer): last timepoint to pull to compute an average across time\n",
    "    \"\"\"\n",
    "    #return sum((truth-mean(sol[:,t_start:t_end], dims=2)).^2 ./weight )#(u0-mean(sol[:,t_start:t_end], dims=2))./ weight\n",
    "    \n",
    "    # compare the average observation for B, E, M and the predicted average center values for B, E, M\n",
    "    #println(abs((sum(truth[1:3]) - sum(center(sol, tpts,max_t)[1:3,:])) ./sum(truth[1:3])))\n",
    "    #println(broadcast(abs, (truth[4:6]-center(sol, tpts,max_t)[4:6,:]) ./ truth[4:6] ))\n",
    "    \n",
    "    s = abs((sum(truth[1:3]) - sum(center(sol, tpts,max_t)[1:3,:])) ./sum(truth[1:3]))\n",
    "    return (s + sum(broadcast(abs, (truth[4:6]-center(sol, tpts,max_t)[4:6,:]) ./ truth[4:6] )))/4\n",
    "end"
   ]
  },
  {
   "cell_type": "code",
   "execution_count": 6,
   "id": "f06d8cc3-7b56-4bd1-9cbe-9a1455d6b8ed",
   "metadata": {
    "tags": []
   },
   "outputs": [
    {
     "data": {
      "text/plain": [
       "center (generic function with 1 method)"
      ]
     },
     "execution_count": 6,
     "metadata": {},
     "output_type": "execute_result"
    }
   ],
   "source": [
    "center(sol, tpts, max_t) = (maximum(sol((max_t-tpts):max_t), dims=2) + minimum(sol((max_t-tpts):max_t), dims=2))/2"
   ]
  },
  {
   "cell_type": "code",
   "execution_count": 7,
   "id": "cdebcea4-6450-458f-9755-32c36608dbe0",
   "metadata": {
    "tags": []
   },
   "outputs": [
    {
     "data": {
      "text/plain": [
       "1500"
      ]
     },
     "execution_count": 7,
     "metadata": {},
     "output_type": "execute_result"
    }
   ],
   "source": [
    "truth = u0\n",
    "tpts=500\n",
    "max_t =1500"
   ]
  },
  {
   "cell_type": "code",
   "execution_count": null,
   "id": "a3a2435a-a013-4ad5-b07d-bf553e0f2403",
   "metadata": {
    "tags": []
   },
   "outputs": [],
   "source": [
    "println(abs((sum(truth[1:3]) - sum(center(sol, tpts,max_t)[1:3,:])) ./sum(truth[1:3]))) \n",
    "println(sum(broadcast(abs, (truth[4:6]-center(sol, tpts,max_t)[4:6,:]) ./ truth[4:6] )))"
   ]
  },
  {
   "cell_type": "code",
   "execution_count": null,
   "id": "c8c24cf8-25c1-4577-ac44-230d3b10ccc8",
   "metadata": {
    "tags": []
   },
   "outputs": [],
   "source": [
    "sum(center(sol, tpts,max_t)[1:3,:]) ./sum(truth[1:3])"
   ]
  },
  {
   "cell_type": "code",
   "execution_count": null,
   "id": "5e1d3ebf-932c-41ec-bedc-5c56ec417b93",
   "metadata": {
    "tags": []
   },
   "outputs": [],
   "source": [
    "size(sol[1:3,:])[2]"
   ]
  },
  {
   "cell_type": "code",
   "execution_count": null,
   "id": "a9c5d4cf-b8f7-4142-8fc5-44e085116de6",
   "metadata": {
    "tags": []
   },
   "outputs": [],
   "source": [
    "#abs(sum(truth[1:3]) - sum(center(sol, tpts,max_t)[1:3,:])) ./sum(truth[1:3])\n",
    "sum((truth[4:6]-center(sol, tpts,max_t)[4:6,:]) ./ truth[4:6] )"
   ]
  },
  {
   "cell_type": "code",
   "execution_count": null,
   "id": "dfbfdad2-b4e6-48b6-8c47-73beab6e6bcf",
   "metadata": {
    "tags": []
   },
   "outputs": [],
   "source": [
    "center(sol, 500,1500)"
   ]
  },
  {
   "cell_type": "code",
   "execution_count": null,
   "id": "46f023ec-6884-42fa-a277-2160c7f2e6f5",
   "metadata": {
    "tags": []
   },
   "outputs": [],
   "source": [
    "loss(u0, sol, 500, 1500)"
   ]
  },
  {
   "cell_type": "code",
   "execution_count": null,
   "id": "fe2c07da-d463-43ed-a2cc-60de6f25f23d",
   "metadata": {
    "tags": []
   },
   "outputs": [],
   "source": [
    "# looking at the APE across the 6 variables\n",
    "s = abs(sum(truth[1:3]) - sum(center(sol, tpts, max_t)[1:3,:])) ./sum(truth[1:3])\n",
    "s, broadcast(abs, (truth[4:6]-center(sol, tpts, max_t)[4:6,:]) ./ truth[4:6] )"
   ]
  },
  {
   "cell_type": "code",
   "execution_count": null,
   "id": "9cae481c-155a-4c26-a9ad-04ce63de2559",
   "metadata": {
    "tags": []
   },
   "outputs": [],
   "source": [
    "(0.47140814660926345 + 0.28185292036079607+0.03943451506605942+0.05014929065894367)/4"
   ]
  },
  {
   "cell_type": "markdown",
   "id": "d723226c-acf9-49af-8c01-8481b4f529f6",
   "metadata": {},
   "source": [
    "# Parameter Estimation"
   ]
  },
  {
   "cell_type": "code",
   "execution_count": null,
   "id": "f98fabaa-7e0a-4def-accb-3d24a7068763",
   "metadata": {
    "tags": []
   },
   "outputs": [],
   "source": [
    "using Optim\n",
    "using Optimization, OptimizationOptimJL"
   ]
  },
  {
   "cell_type": "code",
   "execution_count": null,
   "id": "0e48f82b-380b-46e7-9469-58a48fe7a2d4",
   "metadata": {
    "tags": []
   },
   "outputs": [],
   "source": [
    "function optim_problem(p, u0)\n",
    "    max_t = 1500.0\n",
    "    tspan = (0.0,max_t)\n",
    "    prob = ODEProblem(f,u0,tspan,p)\n",
    "    sol = solve(prob, Tsit5(),reltol=1e-6)\n",
    "    #print(size(sol))\n",
    "    tpts = 100\n",
    "    #print(loss(u0, sol, tpts, max_t))\n",
    "    return loss(u0, sol, tpts, max_t)\n",
    "end"
   ]
  },
  {
   "cell_type": "code",
   "execution_count": null,
   "id": "cca82e63-2a6f-4a2f-a74e-ee31568e8492",
   "metadata": {
    "tags": []
   },
   "outputs": [],
   "source": [
    "#problem = Optimization.OptimizationProblem(optim_problem, u0, p, lb = repeat([0],length(p)), ub = repeat([10000000], length(p)) )\n",
    "func = OptimizationFunction(optim_problem, Optimization.AutoForwardDiff())"
   ]
  },
  {
   "cell_type": "code",
   "execution_count": 8,
   "id": "4fa3b0fd-ecc6-4181-ac81-e0b5248edb37",
   "metadata": {
    "tags": []
   },
   "outputs": [],
   "source": [
    "upper_b =  [1e6, 10,10,10,1000,1e5,  1e5,10,10,1e5,1e4,1e4,1e4,1e4,1e6,1e6,1e5,1e8,1e8,10]# \n",
    "lower_b = repeat([0],length(p));\n",
    "#upper_b = repeat([1e8],20)"
   ]
  },
  {
   "cell_type": "code",
   "execution_count": null,
   "id": "d1bfcf32-f0a3-41a4-abeb-d2232c007601",
   "metadata": {
    "tags": []
   },
   "outputs": [],
   "source": [
    "problem = Optimization.OptimizationProblem(func,  p, u0, lb = lower_b,   ub = upper_b)"
   ]
  },
  {
   "cell_type": "code",
   "execution_count": null,
   "id": "01c577cb-e029-4780-a934-8dbeb45618c8",
   "metadata": {
    "tags": []
   },
   "outputs": [],
   "source": [
    "param_est_sol = solve(problem,Optim.NelderMead())"
   ]
  },
  {
   "cell_type": "code",
   "execution_count": 9,
   "id": "9ed89b46-2740-4afe-8efb-630520172c3d",
   "metadata": {
    "tags": []
   },
   "outputs": [
    {
     "data": {
      "text/plain": [
       "20-element Vector{Float64}:\n",
       " 321929.3492947386\n",
       "      1.2733340945197889\n",
       "      0.847944723137884\n",
       "      0.5155490367781828\n",
       "    408.1986292211009\n",
       "  32516.76373824933\n",
       "  10084.312599791367\n",
       "      0.7457057377822975\n",
       "      0.45352980636650164\n",
       "   1054.9512463489302\n",
       "    237.6627405200494\n",
       "     10.713979034727107\n",
       "    133.17578774972245\n",
       "    413.64628247677683\n",
       "  50111.22112366398\n",
       "  39125.0484403392\n",
       "   3326.9021494824287\n",
       " 341700.81514593255\n",
       "      5.224623421192577e6\n",
       "      0.05394556179552639"
      ]
     },
     "execution_count": 9,
     "metadata": {},
     "output_type": "execute_result"
    }
   ],
   "source": [
    "param_est_sol =  [321929.3492947386,\n",
    "      1.2733340945197889,\n",
    "      0.847944723137884,\n",
    "      0.5155490367781828,\n",
    "    408.1986292211009,\n",
    "  32516.76373824933,\n",
    "  10084.312599791367,\n",
    "      0.7457057377822975,\n",
    "      0.45352980636650164,\n",
    "   1054.9512463489302,\n",
    "    237.6627405200494,\n",
    "     10.713979034727107,\n",
    "    133.17578774972245,\n",
    "    413.64628247677683,\n",
    "  50111.22112366398,\n",
    "  39125.0484403392,\n",
    "   3326.9021494824287,\n",
    " 341700.81514593255,\n",
    "      5.224623421192577e6,\n",
    "      0.05394556179552639]"
   ]
  },
  {
   "cell_type": "code",
   "execution_count": null,
   "id": "07e3b1d8-a445-4cec-9e1e-948fdc91eee6",
   "metadata": {
    "tags": []
   },
   "outputs": [],
   "source": [
    "optim_problem(param_est_sol, u0)"
   ]
  },
  {
   "cell_type": "code",
   "execution_count": null,
   "id": "42bc028e-e403-428e-82d6-015b2596712d",
   "metadata": {
    "tags": []
   },
   "outputs": [],
   "source": [
    "using JLD\n",
    "#save(\"params.jld\", \"data\", param_est_sol)"
   ]
  },
  {
   "cell_type": "code",
   "execution_count": null,
   "id": "91816f95-5215-4f38-bd59-a2639f18775b",
   "metadata": {
    "tags": []
   },
   "outputs": [],
   "source": [
    "#param_est_sol = load(\"params.jld\")#[\"data\"]"
   ]
  },
  {
   "cell_type": "code",
   "execution_count": null,
   "id": "629ddb11-87b5-4441-b52d-496b5c66b219",
   "metadata": {},
   "outputs": [],
   "source": [
    "max_t = 10000.0\n",
    "tspan = (0.0,max_t)\n",
    "prob = ODEProblem(f,u0,tspan,param_est_sol)\n",
    "sol = solve(prob, Tsit5(),reltol=1e-6)\n",
    "vars = ['B', \"E\", \"M\", \"a\", \"h\", \"p\"]\n",
    "for i in 1:6\n",
    "    d = plot(sol.t, sol[i,:], title = vars[i], legend = false)\n",
    "    #d = plot(sol.t, sol[i,:], title = vars[i], legend = false)\n",
    "    display(d)\n",
    "end"
   ]
  },
  {
   "cell_type": "code",
   "execution_count": null,
   "id": "946f48ad-8c51-40ec-8a31-de74509b70ba",
   "metadata": {
    "tags": []
   },
   "outputs": [],
   "source": [
    "loss(truth, sol, 500, 10000)"
   ]
  },
  {
   "cell_type": "code",
   "execution_count": null,
   "id": "a6a43cf5-6b90-4181-b568-29caca3c1443",
   "metadata": {
    "tags": []
   },
   "outputs": [],
   "source": [
    "#constrained simulated annealing\n",
    "\n",
    "#param_est_sol_SA = solve(problem,Optim.SAMIN(), maxiters=50000) #Optim.SimulatedAnnealing()) #"
   ]
  },
  {
   "cell_type": "code",
   "execution_count": null,
   "id": "5c490163-2e3c-43a6-b2b2-65b7f1685527",
   "metadata": {
    "tags": []
   },
   "outputs": [],
   "source": [
    "param_est_sol_SA"
   ]
  },
  {
   "cell_type": "code",
   "execution_count": 64,
   "id": "d9d236ab-a8ca-4caa-a8e4-55ee39be347d",
   "metadata": {
    "tags": []
   },
   "outputs": [
    {
     "ename": "LoadError",
     "evalue": "ArgumentError: Package ArgParse not found in current path.\n- Run `import Pkg; Pkg.add(\"ArgParse\")` to install the ArgParse package.",
     "output_type": "error",
     "traceback": [
      "ArgumentError: Package ArgParse not found in current path.\n- Run `import Pkg; Pkg.add(\"ArgParse\")` to install the ArgParse package.",
      "",
      "Stacktrace:",
      " [1] macro expansion",
      "   @ ./loading.jl:1047 [inlined]",
      " [2] macro expansion",
      "   @ ./lock.jl:223 [inlined]",
      " [3] require(into::Module, mod::Symbol)",
      "   @ Base ./loading.jl:1028",
      " [4] eval",
      "   @ ./boot.jl:368 [inlined]",
      " [5] include_string(mapexpr::typeof(REPL.softscope), mod::Module, code::String, filename::String)",
      "   @ Base ./loading.jl:1277"
     ]
    }
   ],
   "source": [
    "using ArgParse"
   ]
  },
  {
   "cell_type": "markdown",
   "id": "b3fdc5fe-3614-432e-a929-9e4388c5e012",
   "metadata": {},
   "source": [
    "# Sensitivity Analysis"
   ]
  },
  {
   "cell_type": "code",
   "execution_count": null,
   "id": "48739df3-08a7-4773-bf96-2451afe0a0bd",
   "metadata": {
    "tags": []
   },
   "outputs": [],
   "source": [
    "using Pkg; Pkg.add(\"QuasiMonteCarlo\")#Pkg.add(\"GlobalSensitivity\")\n"
   ]
  },
  {
   "cell_type": "code",
   "execution_count": 11,
   "id": "42d61d72-d95d-44f4-83b4-1dc6ade33df7",
   "metadata": {
    "tags": []
   },
   "outputs": [],
   "source": [
    "using GlobalSensitivity, QuasiMonteCarlo"
   ]
  },
  {
   "cell_type": "code",
   "execution_count": null,
   "id": "54950e48-f762-4b42-85a5-e681fb7d0248",
   "metadata": {},
   "outputs": [],
   "source": [
    "#center(sol, tpts, max_t) = (maximum(sol((max_t-tpts):max_t), dims=2) + minimum(sol((max_t-tpts):max_t), dims=2))/2"
   ]
  },
  {
   "cell_type": "code",
   "execution_count": 60,
   "id": "7a13dbf2-fbaa-47fa-9b25-0e4558fad6fc",
   "metadata": {
    "tags": []
   },
   "outputs": [
    {
     "data": {
      "text/plain": [
       "2-element Vector{Matrix{Float64}}:\n",
       " [187500.0 687500.0 … 93750.0 593750.0; 3.125 8.125 … 4.6875 9.6875; … ; 9.375e7 4.375e7 … 7.8125e7 2.8125e7; 3.125 8.125 … 0.3125 5.3125]\n",
       " [187500.0 687500.0 … 718750.0 218750.0; 6.875 1.875 … 9.0625 4.0625; … ; 3.125e7 8.125e7 … 3.125e6 5.3125e7; 5.625 0.625 … 9.0625 4.0625]"
      ]
     },
     "execution_count": 60,
     "metadata": {},
     "output_type": "execute_result"
    }
   ],
   "source": [
    "sampler = SobolSample()\n",
    "A,B = QuasiMonteCarlo.generate_design_matrices(10,lower_b,upper_b,sampler)"
   ]
  },
  {
   "cell_type": "code",
   "execution_count": 63,
   "id": "0b07c03f-d5f1-4db7-ac0f-0c8ea2bc1934",
   "metadata": {
    "tags": []
   },
   "outputs": [
    {
     "data": {
      "text/plain": [
       "20×10 Matrix{Float64}:\n",
       " 187500.0      687500.0      937500.0      …   93750.0       593750.0\n",
       "      3.125         8.125         0.625            4.6875         9.6875\n",
       "      9.375         4.375         6.875            4.6875         9.6875\n",
       "      4.375         9.375         1.875            6.5625         1.5625\n",
       "    562.5          62.5         312.5            281.25         781.25\n",
       "  31250.0       81250.0       56250.0      …   96875.0        46875.0\n",
       "  43750.0       93750.0       18750.0          53125.0         3125.0\n",
       "      9.375         4.375         1.875            8.4375         3.4375\n",
       "      9.375         4.375         1.875            4.6875         9.6875\n",
       "  31250.0       81250.0       56250.0          15625.0        65625.0\n",
       "   6875.0        1875.0        4375.0      …     937.5         5937.5\n",
       "    625.0        5625.0        8125.0           4062.5         9062.5\n",
       "   9375.0        4375.0        6875.0           6562.5         1562.5\n",
       "   9375.0        4375.0        6875.0           6562.5         1562.5\n",
       " 812500.0      312500.0       62500.0         343750.0       843750.0\n",
       " 937500.0      437500.0      687500.0      …   31250.0       531250.0\n",
       "  81250.0       31250.0        6250.0          78125.0        28125.0\n",
       "      8.125e7       3.125e7       5.625e7          5.9375e7       9.375e6\n",
       "      9.375e7       4.375e7       1.875e7          7.8125e7       2.8125e7\n",
       "      3.125         8.125         0.625            0.3125         5.3125"
      ]
     },
     "execution_count": 63,
     "metadata": {},
     "output_type": "execute_result"
    }
   ],
   "source": [
    "A"
   ]
  },
  {
   "cell_type": "code",
   "execution_count": 54,
   "id": "2b4b5547-96c7-4125-ad3b-8f1b705a89b0",
   "metadata": {
    "tags": []
   },
   "outputs": [
    {
     "data": {
      "text/plain": [
       "sample (generic function with 1 method)"
      ]
     },
     "execution_count": 54,
     "metadata": {},
     "output_type": "execute_result"
    }
   ],
   "source": [
    "function sample(p)\n",
    "    # p has shape (params, # samples)\n",
    "    l = size(p)[2]\n",
    "    u0 = [0.0004706; 0.0004706; 0.0004706; 9.7079; 7.9551; 32.061]\n",
    "    max_t = 7500.0\n",
    "    tspan = (0.0,max_t)\n",
    "    prob = [ODEProblem(f,u0,tspan,p[:,n]) for n in 1:l]\n",
    "    sol = [solve(prob[n], Tsit5(),reltol=1e-6) for n in 1:l]\n",
    "    #print(size(sol))\n",
    "    tpts = 100\n",
    "    #print(loss(u0, sol, tpts, max_t))\n",
    "    return [center(sol[n], tpts, max_t) for n in 1:l] #loss(u0, sol, tpts, max_t)\n",
    "end"
   ]
  },
  {
   "cell_type": "code",
   "execution_count": 59,
   "id": "aa77192f-9633-43ae-a750-511b3643a078",
   "metadata": {
    "tags": []
   },
   "outputs": [
    {
     "data": {
      "text/plain": [
       "6×1 Matrix{Float64}:\n",
       "  0.0001775198392310088\n",
       "  0.0006305319326466927\n",
       "  0.0004747407422656011\n",
       "  9.661372729876195\n",
       "  8.023836453086346\n",
       " 32.110053555532694"
      ]
     },
     "execution_count": 59,
     "metadata": {},
     "output_type": "execute_result"
    }
   ],
   "source": [
    "p = repeat(param_est_sol, outer = [1, 1])\n",
    "\n",
    "sample(p)[1]"
   ]
  },
  {
   "cell_type": "markdown",
   "id": "7f37ac00-9d25-40ff-864e-b01dc0ae3314",
   "metadata": {},
   "source": [
    "AutoTsit5(Rosenbrock23()) handles both stiff and non-stiff equations. This is a good algorithm to use if you know nothing about the equation.\n",
    "AutoVern7(Rodas5()) handles both stiff and non-stiff equations in a way that's efficient for high accuracy.\n",
    "Tsit5() for standard non-stiff. This is the first algorithm to try in most cases.\n",
    "BS3() for fast low accuracy non-stiff.\n",
    "Vern7() for high accuracy non-stiff.\n",
    "Rodas4() or Rodas5() for small stiff equations with Julia-defined types, events, etc.\n",
    "KenCarp4() or TRBDF2() for medium-sized (100-2000 ODEs) stiff equations\n",
    "RadauIIA5() for really high accuracy stiff equations\n",
    "QNDF() for large stiff equations"
   ]
  },
  {
   "cell_type": "code",
   "execution_count": 13,
   "id": "834ee7b9-3b6d-4059-9c6f-03abaf4beef3",
   "metadata": {
    "tags": []
   },
   "outputs": [
    {
     "name": "stderr",
     "output_type": "stream",
     "text": [
      "┌ Warning: Interrupted. Larger maxiters is needed. If you are using an integrator for non-stiff ODEs or an automatic switching algorithm (the default), you may want to consider using a method for stiff equations. See the solver pages for more details (e.g. https://diffeq.sciml.ai/stable/solvers/ode_solve/#Stiff-Problems).\n",
      "└ @ SciMLBase /global/homes/m/maadrian/.julia/nersc/perlmutter/packages/SciMLBase/mOGJz/src/integrator_interface.jl:502\n",
      "┌ Warning: Interrupted. Larger maxiters is needed. If you are using an integrator for non-stiff ODEs or an automatic switching algorithm (the default), you may want to consider using a method for stiff equations. See the solver pages for more details (e.g. https://diffeq.sciml.ai/stable/solvers/ode_solve/#Stiff-Problems).\n",
      "└ @ SciMLBase /global/homes/m/maadrian/.julia/nersc/perlmutter/packages/SciMLBase/mOGJz/src/integrator_interface.jl:502\n",
      "┌ Warning: Interrupted. Larger maxiters is needed. If you are using an integrator for non-stiff ODEs or an automatic switching algorithm (the default), you may want to consider using a method for stiff equations. See the solver pages for more details (e.g. https://diffeq.sciml.ai/stable/solvers/ode_solve/#Stiff-Problems).\n",
      "└ @ SciMLBase /global/homes/m/maadrian/.julia/nersc/perlmutter/packages/SciMLBase/mOGJz/src/integrator_interface.jl:502\n",
      "┌ Warning: Interrupted. Larger maxiters is needed. If you are using an integrator for non-stiff ODEs or an automatic switching algorithm (the default), you may want to consider using a method for stiff equations. See the solver pages for more details (e.g. https://diffeq.sciml.ai/stable/solvers/ode_solve/#Stiff-Problems).\n",
      "└ @ SciMLBase /global/homes/m/maadrian/.julia/nersc/perlmutter/packages/SciMLBase/mOGJz/src/integrator_interface.jl:502\n",
      "┌ Warning: Interrupted. Larger maxiters is needed. If you are using an integrator for non-stiff ODEs or an automatic switching algorithm (the default), you may want to consider using a method for stiff equations. See the solver pages for more details (e.g. https://diffeq.sciml.ai/stable/solvers/ode_solve/#Stiff-Problems).\n",
      "└ @ SciMLBase /global/homes/m/maadrian/.julia/nersc/perlmutter/packages/SciMLBase/mOGJz/src/integrator_interface.jl:502\n",
      "┌ Warning: Interrupted. Larger maxiters is needed. If you are using an integrator for non-stiff ODEs or an automatic switching algorithm (the default), you may want to consider using a method for stiff equations. See the solver pages for more details (e.g. https://diffeq.sciml.ai/stable/solvers/ode_solve/#Stiff-Problems).\n",
      "└ @ SciMLBase /global/homes/m/maadrian/.julia/nersc/perlmutter/packages/SciMLBase/mOGJz/src/integrator_interface.jl:502\n",
      "┌ Warning: Interrupted. Larger maxiters is needed. If you are using an integrator for non-stiff ODEs or an automatic switching algorithm (the default), you may want to consider using a method for stiff equations. See the solver pages for more details (e.g. https://diffeq.sciml.ai/stable/solvers/ode_solve/#Stiff-Problems).\n",
      "└ @ SciMLBase /global/homes/m/maadrian/.julia/nersc/perlmutter/packages/SciMLBase/mOGJz/src/integrator_interface.jl:502\n",
      "┌ Warning: Interrupted. Larger maxiters is needed. If you are using an integrator for non-stiff ODEs or an automatic switching algorithm (the default), you may want to consider using a method for stiff equations. See the solver pages for more details (e.g. https://diffeq.sciml.ai/stable/solvers/ode_solve/#Stiff-Problems).\n",
      "└ @ SciMLBase /global/homes/m/maadrian/.julia/nersc/perlmutter/packages/SciMLBase/mOGJz/src/integrator_interface.jl:502\n",
      "┌ Warning: Interrupted. Larger maxiters is needed. If you are using an integrator for non-stiff ODEs or an automatic switching algorithm (the default), you may want to consider using a method for stiff equations. See the solver pages for more details (e.g. https://diffeq.sciml.ai/stable/solvers/ode_solve/#Stiff-Problems).\n",
      "└ @ SciMLBase /global/homes/m/maadrian/.julia/nersc/perlmutter/packages/SciMLBase/mOGJz/src/integrator_interface.jl:502\n",
      "┌ Warning: Interrupted. Larger maxiters is needed. If you are using an integrator for non-stiff ODEs or an automatic switching algorithm (the default), you may want to consider using a method for stiff equations. See the solver pages for more details (e.g. https://diffeq.sciml.ai/stable/solvers/ode_solve/#Stiff-Problems).\n",
      "└ @ SciMLBase /global/homes/m/maadrian/.julia/nersc/perlmutter/packages/SciMLBase/mOGJz/src/integrator_interface.jl:502\n",
      "┌ Warning: Interrupted. Larger maxiters is needed. If you are using an integrator for non-stiff ODEs or an automatic switching algorithm (the default), you may want to consider using a method for stiff equations. See the solver pages for more details (e.g. https://diffeq.sciml.ai/stable/solvers/ode_solve/#Stiff-Problems).\n",
      "└ @ SciMLBase /global/homes/m/maadrian/.julia/nersc/perlmutter/packages/SciMLBase/mOGJz/src/integrator_interface.jl:502\n",
      "┌ Warning: Interrupted. Larger maxiters is needed. If you are using an integrator for non-stiff ODEs or an automatic switching algorithm (the default), you may want to consider using a method for stiff equations. See the solver pages for more details (e.g. https://diffeq.sciml.ai/stable/solvers/ode_solve/#Stiff-Problems).\n",
      "└ @ SciMLBase /global/homes/m/maadrian/.julia/nersc/perlmutter/packages/SciMLBase/mOGJz/src/integrator_interface.jl:502\n",
      "┌ Warning: Interrupted. Larger maxiters is needed. If you are using an integrator for non-stiff ODEs or an automatic switching algorithm (the default), you may want to consider using a method for stiff equations. See the solver pages for more details (e.g. https://diffeq.sciml.ai/stable/solvers/ode_solve/#Stiff-Problems).\n",
      "└ @ SciMLBase /global/homes/m/maadrian/.julia/nersc/perlmutter/packages/SciMLBase/mOGJz/src/integrator_interface.jl:502\n",
      "┌ Warning: Interrupted. Larger maxiters is needed. If you are using an integrator for non-stiff ODEs or an automatic switching algorithm (the default), you may want to consider using a method for stiff equations. See the solver pages for more details (e.g. https://diffeq.sciml.ai/stable/solvers/ode_solve/#Stiff-Problems).\n",
      "└ @ SciMLBase /global/homes/m/maadrian/.julia/nersc/perlmutter/packages/SciMLBase/mOGJz/src/integrator_interface.jl:502\n",
      "┌ Warning: Interrupted. Larger maxiters is needed. If you are using an integrator for non-stiff ODEs or an automatic switching algorithm (the default), you may want to consider using a method for stiff equations. See the solver pages for more details (e.g. https://diffeq.sciml.ai/stable/solvers/ode_solve/#Stiff-Problems).\n",
      "└ @ SciMLBase /global/homes/m/maadrian/.julia/nersc/perlmutter/packages/SciMLBase/mOGJz/src/integrator_interface.jl:502\n",
      "┌ Warning: Interrupted. Larger maxiters is needed. If you are using an integrator for non-stiff ODEs or an automatic switching algorithm (the default), you may want to consider using a method for stiff equations. See the solver pages for more details (e.g. https://diffeq.sciml.ai/stable/solvers/ode_solve/#Stiff-Problems).\n",
      "└ @ SciMLBase /global/homes/m/maadrian/.julia/nersc/perlmutter/packages/SciMLBase/mOGJz/src/integrator_interface.jl:502\n",
      "┌ Warning: Interrupted. Larger maxiters is needed. If you are using an integrator for non-stiff ODEs or an automatic switching algorithm (the default), you may want to consider using a method for stiff equations. See the solver pages for more details (e.g. https://diffeq.sciml.ai/stable/solvers/ode_solve/#Stiff-Problems).\n",
      "└ @ SciMLBase /global/homes/m/maadrian/.julia/nersc/perlmutter/packages/SciMLBase/mOGJz/src/integrator_interface.jl:502\n",
      "┌ Warning: Interrupted. Larger maxiters is needed. If you are using an integrator for non-stiff ODEs or an automatic switching algorithm (the default), you may want to consider using a method for stiff equations. See the solver pages for more details (e.g. https://diffeq.sciml.ai/stable/solvers/ode_solve/#Stiff-Problems).\n",
      "└ @ SciMLBase /global/homes/m/maadrian/.julia/nersc/perlmutter/packages/SciMLBase/mOGJz/src/integrator_interface.jl:502\n",
      "┌ Warning: Interrupted. Larger maxiters is needed. If you are using an integrator for non-stiff ODEs or an automatic switching algorithm (the default), you may want to consider using a method for stiff equations. See the solver pages for more details (e.g. https://diffeq.sciml.ai/stable/solvers/ode_solve/#Stiff-Problems).\n",
      "└ @ SciMLBase /global/homes/m/maadrian/.julia/nersc/perlmutter/packages/SciMLBase/mOGJz/src/integrator_interface.jl:502\n",
      "┌ Warning: Interrupted. Larger maxiters is needed. If you are using an integrator for non-stiff ODEs or an automatic switching algorithm (the default), you may want to consider using a method for stiff equations. See the solver pages for more details (e.g. https://diffeq.sciml.ai/stable/solvers/ode_solve/#Stiff-Problems).\n",
      "└ @ SciMLBase /global/homes/m/maadrian/.julia/nersc/perlmutter/packages/SciMLBase/mOGJz/src/integrator_interface.jl:502\n",
      "┌ Warning: Interrupted. Larger maxiters is needed. If you are using an integrator for non-stiff ODEs or an automatic switching algorithm (the default), you may want to consider using a method for stiff equations. See the solver pages for more details (e.g. https://diffeq.sciml.ai/stable/solvers/ode_solve/#Stiff-Problems).\n",
      "└ @ SciMLBase /global/homes/m/maadrian/.julia/nersc/perlmutter/packages/SciMLBase/mOGJz/src/integrator_interface.jl:502\n",
      "┌ Warning: Interrupted. Larger maxiters is needed. If you are using an integrator for non-stiff ODEs or an automatic switching algorithm (the default), you may want to consider using a method for stiff equations. See the solver pages for more details (e.g. https://diffeq.sciml.ai/stable/solvers/ode_solve/#Stiff-Problems).\n",
      "└ @ SciMLBase /global/homes/m/maadrian/.julia/nersc/perlmutter/packages/SciMLBase/mOGJz/src/integrator_interface.jl:502\n",
      "┌ Warning: Interrupted. Larger maxiters is needed. If you are using an integrator for non-stiff ODEs or an automatic switching algorithm (the default), you may want to consider using a method for stiff equations. See the solver pages for more details (e.g. https://diffeq.sciml.ai/stable/solvers/ode_solve/#Stiff-Problems).\n",
      "└ @ SciMLBase /global/homes/m/maadrian/.julia/nersc/perlmutter/packages/SciMLBase/mOGJz/src/integrator_interface.jl:502\n",
      "┌ Warning: Interrupted. Larger maxiters is needed. If you are using an integrator for non-stiff ODEs or an automatic switching algorithm (the default), you may want to consider using a method for stiff equations. See the solver pages for more details (e.g. https://diffeq.sciml.ai/stable/solvers/ode_solve/#Stiff-Problems).\n",
      "└ @ SciMLBase /global/homes/m/maadrian/.julia/nersc/perlmutter/packages/SciMLBase/mOGJz/src/integrator_interface.jl:502\n",
      "┌ Warning: Interrupted. Larger maxiters is needed. If you are using an integrator for non-stiff ODEs or an automatic switching algorithm (the default), you may want to consider using a method for stiff equations. See the solver pages for more details (e.g. https://diffeq.sciml.ai/stable/solvers/ode_solve/#Stiff-Problems).\n",
      "└ @ SciMLBase /global/homes/m/maadrian/.julia/nersc/perlmutter/packages/SciMLBase/mOGJz/src/integrator_interface.jl:502\n",
      "┌ Warning: Interrupted. Larger maxiters is needed. If you are using an integrator for non-stiff ODEs or an automatic switching algorithm (the default), you may want to consider using a method for stiff equations. See the solver pages for more details (e.g. https://diffeq.sciml.ai/stable/solvers/ode_solve/#Stiff-Problems).\n",
      "└ @ SciMLBase /global/homes/m/maadrian/.julia/nersc/perlmutter/packages/SciMLBase/mOGJz/src/integrator_interface.jl:502\n",
      "┌ Warning: Interrupted. Larger maxiters is needed. If you are using an integrator for non-stiff ODEs or an automatic switching algorithm (the default), you may want to consider using a method for stiff equations. See the solver pages for more details (e.g. https://diffeq.sciml.ai/stable/solvers/ode_solve/#Stiff-Problems).\n",
      "└ @ SciMLBase /global/homes/m/maadrian/.julia/nersc/perlmutter/packages/SciMLBase/mOGJz/src/integrator_interface.jl:502\n",
      "┌ Warning: Interrupted. Larger maxiters is needed. If you are using an integrator for non-stiff ODEs or an automatic switching algorithm (the default), you may want to consider using a method for stiff equations. See the solver pages for more details (e.g. https://diffeq.sciml.ai/stable/solvers/ode_solve/#Stiff-Problems).\n",
      "└ @ SciMLBase /global/homes/m/maadrian/.julia/nersc/perlmutter/packages/SciMLBase/mOGJz/src/integrator_interface.jl:502\n",
      "┌ Warning: Interrupted. Larger maxiters is needed. If you are using an integrator for non-stiff ODEs or an automatic switching algorithm (the default), you may want to consider using a method for stiff equations. See the solver pages for more details (e.g. https://diffeq.sciml.ai/stable/solvers/ode_solve/#Stiff-Problems).\n",
      "└ @ SciMLBase /global/homes/m/maadrian/.julia/nersc/perlmutter/packages/SciMLBase/mOGJz/src/integrator_interface.jl:502\n",
      "┌ Warning: Interrupted. Larger maxiters is needed. If you are using an integrator for non-stiff ODEs or an automatic switching algorithm (the default), you may want to consider using a method for stiff equations. See the solver pages for more details (e.g. https://diffeq.sciml.ai/stable/solvers/ode_solve/#Stiff-Problems).\n",
      "└ @ SciMLBase /global/homes/m/maadrian/.julia/nersc/perlmutter/packages/SciMLBase/mOGJz/src/integrator_interface.jl:502\n",
      "┌ Warning: Interrupted. Larger maxiters is needed. If you are using an integrator for non-stiff ODEs or an automatic switching algorithm (the default), you may want to consider using a method for stiff equations. See the solver pages for more details (e.g. https://diffeq.sciml.ai/stable/solvers/ode_solve/#Stiff-Problems).\n",
      "└ @ SciMLBase /global/homes/m/maadrian/.julia/nersc/perlmutter/packages/SciMLBase/mOGJz/src/integrator_interface.jl:502\n",
      "┌ Warning: Interrupted. Larger maxiters is needed. If you are using an integrator for non-stiff ODEs or an automatic switching algorithm (the default), you may want to consider using a method for stiff equations. See the solver pages for more details (e.g. https://diffeq.sciml.ai/stable/solvers/ode_solve/#Stiff-Problems).\n",
      "└ @ SciMLBase /global/homes/m/maadrian/.julia/nersc/perlmutter/packages/SciMLBase/mOGJz/src/integrator_interface.jl:502\n",
      "┌ Warning: Interrupted. Larger maxiters is needed. If you are using an integrator for non-stiff ODEs or an automatic switching algorithm (the default), you may want to consider using a method for stiff equations. See the solver pages for more details (e.g. https://diffeq.sciml.ai/stable/solvers/ode_solve/#Stiff-Problems).\n",
      "└ @ SciMLBase /global/homes/m/maadrian/.julia/nersc/perlmutter/packages/SciMLBase/mOGJz/src/integrator_interface.jl:502\n",
      "┌ Warning: Interrupted. Larger maxiters is needed. If you are using an integrator for non-stiff ODEs or an automatic switching algorithm (the default), you may want to consider using a method for stiff equations. See the solver pages for more details (e.g. https://diffeq.sciml.ai/stable/solvers/ode_solve/#Stiff-Problems).\n",
      "└ @ SciMLBase /global/homes/m/maadrian/.julia/nersc/perlmutter/packages/SciMLBase/mOGJz/src/integrator_interface.jl:502\n",
      "┌ Warning: Interrupted. Larger maxiters is needed. If you are using an integrator for non-stiff ODEs or an automatic switching algorithm (the default), you may want to consider using a method for stiff equations. See the solver pages for more details (e.g. https://diffeq.sciml.ai/stable/solvers/ode_solve/#Stiff-Problems).\n",
      "└ @ SciMLBase /global/homes/m/maadrian/.julia/nersc/perlmutter/packages/SciMLBase/mOGJz/src/integrator_interface.jl:502\n",
      "┌ Warning: Interrupted. Larger maxiters is needed. If you are using an integrator for non-stiff ODEs or an automatic switching algorithm (the default), you may want to consider using a method for stiff equations. See the solver pages for more details (e.g. https://diffeq.sciml.ai/stable/solvers/ode_solve/#Stiff-Problems).\n",
      "└ @ SciMLBase /global/homes/m/maadrian/.julia/nersc/perlmutter/packages/SciMLBase/mOGJz/src/integrator_interface.jl:502\n",
      "┌ Warning: Interrupted. Larger maxiters is needed. If you are using an integrator for non-stiff ODEs or an automatic switching algorithm (the default), you may want to consider using a method for stiff equations. See the solver pages for more details (e.g. https://diffeq.sciml.ai/stable/solvers/ode_solve/#Stiff-Problems).\n",
      "└ @ SciMLBase /global/homes/m/maadrian/.julia/nersc/perlmutter/packages/SciMLBase/mOGJz/src/integrator_interface.jl:502\n",
      "┌ Warning: Interrupted. Larger maxiters is needed. If you are using an integrator for non-stiff ODEs or an automatic switching algorithm (the default), you may want to consider using a method for stiff equations. See the solver pages for more details (e.g. https://diffeq.sciml.ai/stable/solvers/ode_solve/#Stiff-Problems).\n",
      "└ @ SciMLBase /global/homes/m/maadrian/.julia/nersc/perlmutter/packages/SciMLBase/mOGJz/src/integrator_interface.jl:502\n",
      "┌ Warning: Interrupted. Larger maxiters is needed. If you are using an integrator for non-stiff ODEs or an automatic switching algorithm (the default), you may want to consider using a method for stiff equations. See the solver pages for more details (e.g. https://diffeq.sciml.ai/stable/solvers/ode_solve/#Stiff-Problems).\n",
      "└ @ SciMLBase /global/homes/m/maadrian/.julia/nersc/perlmutter/packages/SciMLBase/mOGJz/src/integrator_interface.jl:502\n",
      "┌ Warning: Interrupted. Larger maxiters is needed. If you are using an integrator for non-stiff ODEs or an automatic switching algorithm (the default), you may want to consider using a method for stiff equations. See the solver pages for more details (e.g. https://diffeq.sciml.ai/stable/solvers/ode_solve/#Stiff-Problems).\n",
      "└ @ SciMLBase /global/homes/m/maadrian/.julia/nersc/perlmutter/packages/SciMLBase/mOGJz/src/integrator_interface.jl:502\n",
      "┌ Warning: Interrupted. Larger maxiters is needed. If you are using an integrator for non-stiff ODEs or an automatic switching algorithm (the default), you may want to consider using a method for stiff equations. See the solver pages for more details (e.g. https://diffeq.sciml.ai/stable/solvers/ode_solve/#Stiff-Problems).\n",
      "└ @ SciMLBase /global/homes/m/maadrian/.julia/nersc/perlmutter/packages/SciMLBase/mOGJz/src/integrator_interface.jl:502\n",
      "┌ Warning: Interrupted. Larger maxiters is needed. If you are using an integrator for non-stiff ODEs or an automatic switching algorithm (the default), you may want to consider using a method for stiff equations. See the solver pages for more details (e.g. https://diffeq.sciml.ai/stable/solvers/ode_solve/#Stiff-Problems).\n",
      "└ @ SciMLBase /global/homes/m/maadrian/.julia/nersc/perlmutter/packages/SciMLBase/mOGJz/src/integrator_interface.jl:502\n",
      "┌ Warning: Interrupted. Larger maxiters is needed. If you are using an integrator for non-stiff ODEs or an automatic switching algorithm (the default), you may want to consider using a method for stiff equations. See the solver pages for more details (e.g. https://diffeq.sciml.ai/stable/solvers/ode_solve/#Stiff-Problems).\n",
      "└ @ SciMLBase /global/homes/m/maadrian/.julia/nersc/perlmutter/packages/SciMLBase/mOGJz/src/integrator_interface.jl:502\n",
      "┌ Warning: Interrupted. Larger maxiters is needed. If you are using an integrator for non-stiff ODEs or an automatic switching algorithm (the default), you may want to consider using a method for stiff equations. See the solver pages for more details (e.g. https://diffeq.sciml.ai/stable/solvers/ode_solve/#Stiff-Problems).\n",
      "└ @ SciMLBase /global/homes/m/maadrian/.julia/nersc/perlmutter/packages/SciMLBase/mOGJz/src/integrator_interface.jl:502\n",
      "┌ Warning: Interrupted. Larger maxiters is needed. If you are using an integrator for non-stiff ODEs or an automatic switching algorithm (the default), you may want to consider using a method for stiff equations. See the solver pages for more details (e.g. https://diffeq.sciml.ai/stable/solvers/ode_solve/#Stiff-Problems).\n",
      "└ @ SciMLBase /global/homes/m/maadrian/.julia/nersc/perlmutter/packages/SciMLBase/mOGJz/src/integrator_interface.jl:502\n",
      "┌ Warning: Interrupted. Larger maxiters is needed. If you are using an integrator for non-stiff ODEs or an automatic switching algorithm (the default), you may want to consider using a method for stiff equations. See the solver pages for more details (e.g. https://diffeq.sciml.ai/stable/solvers/ode_solve/#Stiff-Problems).\n",
      "└ @ SciMLBase /global/homes/m/maadrian/.julia/nersc/perlmutter/packages/SciMLBase/mOGJz/src/integrator_interface.jl:502\n",
      "┌ Warning: Interrupted. Larger maxiters is needed. If you are using an integrator for non-stiff ODEs or an automatic switching algorithm (the default), you may want to consider using a method for stiff equations. See the solver pages for more details (e.g. https://diffeq.sciml.ai/stable/solvers/ode_solve/#Stiff-Problems).\n",
      "└ @ SciMLBase /global/homes/m/maadrian/.julia/nersc/perlmutter/packages/SciMLBase/mOGJz/src/integrator_interface.jl:502\n",
      "┌ Warning: Interrupted. Larger maxiters is needed. If you are using an integrator for non-stiff ODEs or an automatic switching algorithm (the default), you may want to consider using a method for stiff equations. See the solver pages for more details (e.g. https://diffeq.sciml.ai/stable/solvers/ode_solve/#Stiff-Problems).\n",
      "└ @ SciMLBase /global/homes/m/maadrian/.julia/nersc/perlmutter/packages/SciMLBase/mOGJz/src/integrator_interface.jl:502\n",
      "┌ Warning: Interrupted. Larger maxiters is needed. If you are using an integrator for non-stiff ODEs or an automatic switching algorithm (the default), you may want to consider using a method for stiff equations. See the solver pages for more details (e.g. https://diffeq.sciml.ai/stable/solvers/ode_solve/#Stiff-Problems).\n",
      "└ @ SciMLBase /global/homes/m/maadrian/.julia/nersc/perlmutter/packages/SciMLBase/mOGJz/src/integrator_interface.jl:502\n",
      "┌ Warning: Interrupted. Larger maxiters is needed. If you are using an integrator for non-stiff ODEs or an automatic switching algorithm (the default), you may want to consider using a method for stiff equations. See the solver pages for more details (e.g. https://diffeq.sciml.ai/stable/solvers/ode_solve/#Stiff-Problems).\n",
      "└ @ SciMLBase /global/homes/m/maadrian/.julia/nersc/perlmutter/packages/SciMLBase/mOGJz/src/integrator_interface.jl:502\n",
      "┌ Warning: Interrupted. Larger maxiters is needed. If you are using an integrator for non-stiff ODEs or an automatic switching algorithm (the default), you may want to consider using a method for stiff equations. See the solver pages for more details (e.g. https://diffeq.sciml.ai/stable/solvers/ode_solve/#Stiff-Problems).\n",
      "└ @ SciMLBase /global/homes/m/maadrian/.julia/nersc/perlmutter/packages/SciMLBase/mOGJz/src/integrator_interface.jl:502\n",
      "┌ Warning: Interrupted. Larger maxiters is needed. If you are using an integrator for non-stiff ODEs or an automatic switching algorithm (the default), you may want to consider using a method for stiff equations. See the solver pages for more details (e.g. https://diffeq.sciml.ai/stable/solvers/ode_solve/#Stiff-Problems).\n",
      "└ @ SciMLBase /global/homes/m/maadrian/.julia/nersc/perlmutter/packages/SciMLBase/mOGJz/src/integrator_interface.jl:502\n",
      "┌ Warning: Interrupted. Larger maxiters is needed. If you are using an integrator for non-stiff ODEs or an automatic switching algorithm (the default), you may want to consider using a method for stiff equations. See the solver pages for more details (e.g. https://diffeq.sciml.ai/stable/solvers/ode_solve/#Stiff-Problems).\n",
      "└ @ SciMLBase /global/homes/m/maadrian/.julia/nersc/perlmutter/packages/SciMLBase/mOGJz/src/integrator_interface.jl:502\n",
      "┌ Warning: Interrupted. Larger maxiters is needed. If you are using an integrator for non-stiff ODEs or an automatic switching algorithm (the default), you may want to consider using a method for stiff equations. See the solver pages for more details (e.g. https://diffeq.sciml.ai/stable/solvers/ode_solve/#Stiff-Problems).\n",
      "└ @ SciMLBase /global/homes/m/maadrian/.julia/nersc/perlmutter/packages/SciMLBase/mOGJz/src/integrator_interface.jl:502\n",
      "┌ Warning: Interrupted. Larger maxiters is needed. If you are using an integrator for non-stiff ODEs or an automatic switching algorithm (the default), you may want to consider using a method for stiff equations. See the solver pages for more details (e.g. https://diffeq.sciml.ai/stable/solvers/ode_solve/#Stiff-Problems).\n",
      "└ @ SciMLBase /global/homes/m/maadrian/.julia/nersc/perlmutter/packages/SciMLBase/mOGJz/src/integrator_interface.jl:502\n",
      "┌ Warning: Interrupted. Larger maxiters is needed. If you are using an integrator for non-stiff ODEs or an automatic switching algorithm (the default), you may want to consider using a method for stiff equations. See the solver pages for more details (e.g. https://diffeq.sciml.ai/stable/solvers/ode_solve/#Stiff-Problems).\n",
      "└ @ SciMLBase /global/homes/m/maadrian/.julia/nersc/perlmutter/packages/SciMLBase/mOGJz/src/integrator_interface.jl:502\n",
      "┌ Warning: Interrupted. Larger maxiters is needed. If you are using an integrator for non-stiff ODEs or an automatic switching algorithm (the default), you may want to consider using a method for stiff equations. See the solver pages for more details (e.g. https://diffeq.sciml.ai/stable/solvers/ode_solve/#Stiff-Problems).\n",
      "└ @ SciMLBase /global/homes/m/maadrian/.julia/nersc/perlmutter/packages/SciMLBase/mOGJz/src/integrator_interface.jl:502\n",
      "┌ Warning: Interrupted. Larger maxiters is needed. If you are using an integrator for non-stiff ODEs or an automatic switching algorithm (the default), you may want to consider using a method for stiff equations. See the solver pages for more details (e.g. https://diffeq.sciml.ai/stable/solvers/ode_solve/#Stiff-Problems).\n",
      "└ @ SciMLBase /global/homes/m/maadrian/.julia/nersc/perlmutter/packages/SciMLBase/mOGJz/src/integrator_interface.jl:502\n",
      "┌ Warning: Interrupted. Larger maxiters is needed. If you are using an integrator for non-stiff ODEs or an automatic switching algorithm (the default), you may want to consider using a method for stiff equations. See the solver pages for more details (e.g. https://diffeq.sciml.ai/stable/solvers/ode_solve/#Stiff-Problems).\n",
      "└ @ SciMLBase /global/homes/m/maadrian/.julia/nersc/perlmutter/packages/SciMLBase/mOGJz/src/integrator_interface.jl:502\n",
      "┌ Warning: Interrupted. Larger maxiters is needed. If you are using an integrator for non-stiff ODEs or an automatic switching algorithm (the default), you may want to consider using a method for stiff equations. See the solver pages for more details (e.g. https://diffeq.sciml.ai/stable/solvers/ode_solve/#Stiff-Problems).\n",
      "└ @ SciMLBase /global/homes/m/maadrian/.julia/nersc/perlmutter/packages/SciMLBase/mOGJz/src/integrator_interface.jl:502\n",
      "┌ Warning: Interrupted. Larger maxiters is needed. If you are using an integrator for non-stiff ODEs or an automatic switching algorithm (the default), you may want to consider using a method for stiff equations. See the solver pages for more details (e.g. https://diffeq.sciml.ai/stable/solvers/ode_solve/#Stiff-Problems).\n",
      "└ @ SciMLBase /global/homes/m/maadrian/.julia/nersc/perlmutter/packages/SciMLBase/mOGJz/src/integrator_interface.jl:502\n",
      "┌ Warning: Interrupted. Larger maxiters is needed. If you are using an integrator for non-stiff ODEs or an automatic switching algorithm (the default), you may want to consider using a method for stiff equations. See the solver pages for more details (e.g. https://diffeq.sciml.ai/stable/solvers/ode_solve/#Stiff-Problems).\n",
      "└ @ SciMLBase /global/homes/m/maadrian/.julia/nersc/perlmutter/packages/SciMLBase/mOGJz/src/integrator_interface.jl:502\n",
      "┌ Warning: Interrupted. Larger maxiters is needed. If you are using an integrator for non-stiff ODEs or an automatic switching algorithm (the default), you may want to consider using a method for stiff equations. See the solver pages for more details (e.g. https://diffeq.sciml.ai/stable/solvers/ode_solve/#Stiff-Problems).\n",
      "└ @ SciMLBase /global/homes/m/maadrian/.julia/nersc/perlmutter/packages/SciMLBase/mOGJz/src/integrator_interface.jl:502\n",
      "┌ Warning: Interrupted. Larger maxiters is needed. If you are using an integrator for non-stiff ODEs or an automatic switching algorithm (the default), you may want to consider using a method for stiff equations. See the solver pages for more details (e.g. https://diffeq.sciml.ai/stable/solvers/ode_solve/#Stiff-Problems).\n",
      "└ @ SciMLBase /global/homes/m/maadrian/.julia/nersc/perlmutter/packages/SciMLBase/mOGJz/src/integrator_interface.jl:502\n",
      "┌ Warning: Interrupted. Larger maxiters is needed. If you are using an integrator for non-stiff ODEs or an automatic switching algorithm (the default), you may want to consider using a method for stiff equations. See the solver pages for more details (e.g. https://diffeq.sciml.ai/stable/solvers/ode_solve/#Stiff-Problems).\n",
      "└ @ SciMLBase /global/homes/m/maadrian/.julia/nersc/perlmutter/packages/SciMLBase/mOGJz/src/integrator_interface.jl:502\n",
      "┌ Warning: Interrupted. Larger maxiters is needed. If you are using an integrator for non-stiff ODEs or an automatic switching algorithm (the default), you may want to consider using a method for stiff equations. See the solver pages for more details (e.g. https://diffeq.sciml.ai/stable/solvers/ode_solve/#Stiff-Problems).\n",
      "└ @ SciMLBase /global/homes/m/maadrian/.julia/nersc/perlmutter/packages/SciMLBase/mOGJz/src/integrator_interface.jl:502\n",
      "┌ Warning: Interrupted. Larger maxiters is needed. If you are using an integrator for non-stiff ODEs or an automatic switching algorithm (the default), you may want to consider using a method for stiff equations. See the solver pages for more details (e.g. https://diffeq.sciml.ai/stable/solvers/ode_solve/#Stiff-Problems).\n",
      "└ @ SciMLBase /global/homes/m/maadrian/.julia/nersc/perlmutter/packages/SciMLBase/mOGJz/src/integrator_interface.jl:502\n",
      "┌ Warning: Interrupted. Larger maxiters is needed. If you are using an integrator for non-stiff ODEs or an automatic switching algorithm (the default), you may want to consider using a method for stiff equations. See the solver pages for more details (e.g. https://diffeq.sciml.ai/stable/solvers/ode_solve/#Stiff-Problems).\n",
      "└ @ SciMLBase /global/homes/m/maadrian/.julia/nersc/perlmutter/packages/SciMLBase/mOGJz/src/integrator_interface.jl:502\n",
      "┌ Warning: Interrupted. Larger maxiters is needed. If you are using an integrator for non-stiff ODEs or an automatic switching algorithm (the default), you may want to consider using a method for stiff equations. See the solver pages for more details (e.g. https://diffeq.sciml.ai/stable/solvers/ode_solve/#Stiff-Problems).\n",
      "└ @ SciMLBase /global/homes/m/maadrian/.julia/nersc/perlmutter/packages/SciMLBase/mOGJz/src/integrator_interface.jl:502\n",
      "┌ Warning: Interrupted. Larger maxiters is needed. If you are using an integrator for non-stiff ODEs or an automatic switching algorithm (the default), you may want to consider using a method for stiff equations. See the solver pages for more details (e.g. https://diffeq.sciml.ai/stable/solvers/ode_solve/#Stiff-Problems).\n",
      "└ @ SciMLBase /global/homes/m/maadrian/.julia/nersc/perlmutter/packages/SciMLBase/mOGJz/src/integrator_interface.jl:502\n",
      "┌ Warning: Interrupted. Larger maxiters is needed. If you are using an integrator for non-stiff ODEs or an automatic switching algorithm (the default), you may want to consider using a method for stiff equations. See the solver pages for more details (e.g. https://diffeq.sciml.ai/stable/solvers/ode_solve/#Stiff-Problems).\n",
      "└ @ SciMLBase /global/homes/m/maadrian/.julia/nersc/perlmutter/packages/SciMLBase/mOGJz/src/integrator_interface.jl:502\n",
      "┌ Warning: Interrupted. Larger maxiters is needed. If you are using an integrator for non-stiff ODEs or an automatic switching algorithm (the default), you may want to consider using a method for stiff equations. See the solver pages for more details (e.g. https://diffeq.sciml.ai/stable/solvers/ode_solve/#Stiff-Problems).\n",
      "└ @ SciMLBase /global/homes/m/maadrian/.julia/nersc/perlmutter/packages/SciMLBase/mOGJz/src/integrator_interface.jl:502\n",
      "┌ Warning: Interrupted. Larger maxiters is needed. If you are using an integrator for non-stiff ODEs or an automatic switching algorithm (the default), you may want to consider using a method for stiff equations. See the solver pages for more details (e.g. https://diffeq.sciml.ai/stable/solvers/ode_solve/#Stiff-Problems).\n",
      "└ @ SciMLBase /global/homes/m/maadrian/.julia/nersc/perlmutter/packages/SciMLBase/mOGJz/src/integrator_interface.jl:502\n",
      "┌ Warning: Interrupted. Larger maxiters is needed. If you are using an integrator for non-stiff ODEs or an automatic switching algorithm (the default), you may want to consider using a method for stiff equations. See the solver pages for more details (e.g. https://diffeq.sciml.ai/stable/solvers/ode_solve/#Stiff-Problems).\n",
      "└ @ SciMLBase /global/homes/m/maadrian/.julia/nersc/perlmutter/packages/SciMLBase/mOGJz/src/integrator_interface.jl:502\n",
      "┌ Warning: Interrupted. Larger maxiters is needed. If you are using an integrator for non-stiff ODEs or an automatic switching algorithm (the default), you may want to consider using a method for stiff equations. See the solver pages for more details (e.g. https://diffeq.sciml.ai/stable/solvers/ode_solve/#Stiff-Problems).\n",
      "└ @ SciMLBase /global/homes/m/maadrian/.julia/nersc/perlmutter/packages/SciMLBase/mOGJz/src/integrator_interface.jl:502\n",
      "┌ Warning: Interrupted. Larger maxiters is needed. If you are using an integrator for non-stiff ODEs or an automatic switching algorithm (the default), you may want to consider using a method for stiff equations. See the solver pages for more details (e.g. https://diffeq.sciml.ai/stable/solvers/ode_solve/#Stiff-Problems).\n",
      "└ @ SciMLBase /global/homes/m/maadrian/.julia/nersc/perlmutter/packages/SciMLBase/mOGJz/src/integrator_interface.jl:502\n",
      "┌ Warning: Interrupted. Larger maxiters is needed. If you are using an integrator for non-stiff ODEs or an automatic switching algorithm (the default), you may want to consider using a method for stiff equations. See the solver pages for more details (e.g. https://diffeq.sciml.ai/stable/solvers/ode_solve/#Stiff-Problems).\n",
      "└ @ SciMLBase /global/homes/m/maadrian/.julia/nersc/perlmutter/packages/SciMLBase/mOGJz/src/integrator_interface.jl:502\n",
      "┌ Warning: Interrupted. Larger maxiters is needed. If you are using an integrator for non-stiff ODEs or an automatic switching algorithm (the default), you may want to consider using a method for stiff equations. See the solver pages for more details (e.g. https://diffeq.sciml.ai/stable/solvers/ode_solve/#Stiff-Problems).\n",
      "└ @ SciMLBase /global/homes/m/maadrian/.julia/nersc/perlmutter/packages/SciMLBase/mOGJz/src/integrator_interface.jl:502\n",
      "┌ Warning: Interrupted. Larger maxiters is needed. If you are using an integrator for non-stiff ODEs or an automatic switching algorithm (the default), you may want to consider using a method for stiff equations. See the solver pages for more details (e.g. https://diffeq.sciml.ai/stable/solvers/ode_solve/#Stiff-Problems).\n",
      "└ @ SciMLBase /global/homes/m/maadrian/.julia/nersc/perlmutter/packages/SciMLBase/mOGJz/src/integrator_interface.jl:502\n",
      "┌ Warning: Interrupted. Larger maxiters is needed. If you are using an integrator for non-stiff ODEs or an automatic switching algorithm (the default), you may want to consider using a method for stiff equations. See the solver pages for more details (e.g. https://diffeq.sciml.ai/stable/solvers/ode_solve/#Stiff-Problems).\n",
      "└ @ SciMLBase /global/homes/m/maadrian/.julia/nersc/perlmutter/packages/SciMLBase/mOGJz/src/integrator_interface.jl:502\n",
      "┌ Warning: Interrupted. Larger maxiters is needed. If you are using an integrator for non-stiff ODEs or an automatic switching algorithm (the default), you may want to consider using a method for stiff equations. See the solver pages for more details (e.g. https://diffeq.sciml.ai/stable/solvers/ode_solve/#Stiff-Problems).\n",
      "└ @ SciMLBase /global/homes/m/maadrian/.julia/nersc/perlmutter/packages/SciMLBase/mOGJz/src/integrator_interface.jl:502\n",
      "┌ Warning: Interrupted. Larger maxiters is needed. If you are using an integrator for non-stiff ODEs or an automatic switching algorithm (the default), you may want to consider using a method for stiff equations. See the solver pages for more details (e.g. https://diffeq.sciml.ai/stable/solvers/ode_solve/#Stiff-Problems).\n",
      "└ @ SciMLBase /global/homes/m/maadrian/.julia/nersc/perlmutter/packages/SciMLBase/mOGJz/src/integrator_interface.jl:502\n",
      "┌ Warning: Interrupted. Larger maxiters is needed. If you are using an integrator for non-stiff ODEs or an automatic switching algorithm (the default), you may want to consider using a method for stiff equations. See the solver pages for more details (e.g. https://diffeq.sciml.ai/stable/solvers/ode_solve/#Stiff-Problems).\n",
      "└ @ SciMLBase /global/homes/m/maadrian/.julia/nersc/perlmutter/packages/SciMLBase/mOGJz/src/integrator_interface.jl:502\n",
      "┌ Warning: Interrupted. Larger maxiters is needed. If you are using an integrator for non-stiff ODEs or an automatic switching algorithm (the default), you may want to consider using a method for stiff equations. See the solver pages for more details (e.g. https://diffeq.sciml.ai/stable/solvers/ode_solve/#Stiff-Problems).\n",
      "└ @ SciMLBase /global/homes/m/maadrian/.julia/nersc/perlmutter/packages/SciMLBase/mOGJz/src/integrator_interface.jl:502\n",
      "┌ Warning: Interrupted. Larger maxiters is needed. If you are using an integrator for non-stiff ODEs or an automatic switching algorithm (the default), you may want to consider using a method for stiff equations. See the solver pages for more details (e.g. https://diffeq.sciml.ai/stable/solvers/ode_solve/#Stiff-Problems).\n",
      "└ @ SciMLBase /global/homes/m/maadrian/.julia/nersc/perlmutter/packages/SciMLBase/mOGJz/src/integrator_interface.jl:502\n",
      "┌ Warning: Interrupted. Larger maxiters is needed. If you are using an integrator for non-stiff ODEs or an automatic switching algorithm (the default), you may want to consider using a method for stiff equations. See the solver pages for more details (e.g. https://diffeq.sciml.ai/stable/solvers/ode_solve/#Stiff-Problems).\n",
      "└ @ SciMLBase /global/homes/m/maadrian/.julia/nersc/perlmutter/packages/SciMLBase/mOGJz/src/integrator_interface.jl:502\n",
      "┌ Warning: Interrupted. Larger maxiters is needed. If you are using an integrator for non-stiff ODEs or an automatic switching algorithm (the default), you may want to consider using a method for stiff equations. See the solver pages for more details (e.g. https://diffeq.sciml.ai/stable/solvers/ode_solve/#Stiff-Problems).\n",
      "└ @ SciMLBase /global/homes/m/maadrian/.julia/nersc/perlmutter/packages/SciMLBase/mOGJz/src/integrator_interface.jl:502\n",
      "┌ Warning: Interrupted. Larger maxiters is needed. If you are using an integrator for non-stiff ODEs or an automatic switching algorithm (the default), you may want to consider using a method for stiff equations. See the solver pages for more details (e.g. https://diffeq.sciml.ai/stable/solvers/ode_solve/#Stiff-Problems).\n",
      "└ @ SciMLBase /global/homes/m/maadrian/.julia/nersc/perlmutter/packages/SciMLBase/mOGJz/src/integrator_interface.jl:502\n",
      "┌ Warning: Interrupted. Larger maxiters is needed. If you are using an integrator for non-stiff ODEs or an automatic switching algorithm (the default), you may want to consider using a method for stiff equations. See the solver pages for more details (e.g. https://diffeq.sciml.ai/stable/solvers/ode_solve/#Stiff-Problems).\n",
      "└ @ SciMLBase /global/homes/m/maadrian/.julia/nersc/perlmutter/packages/SciMLBase/mOGJz/src/integrator_interface.jl:502\n",
      "┌ Warning: Interrupted. Larger maxiters is needed. If you are using an integrator for non-stiff ODEs or an automatic switching algorithm (the default), you may want to consider using a method for stiff equations. See the solver pages for more details (e.g. https://diffeq.sciml.ai/stable/solvers/ode_solve/#Stiff-Problems).\n",
      "└ @ SciMLBase /global/homes/m/maadrian/.julia/nersc/perlmutter/packages/SciMLBase/mOGJz/src/integrator_interface.jl:502\n",
      "┌ Warning: Interrupted. Larger maxiters is needed. If you are using an integrator for non-stiff ODEs or an automatic switching algorithm (the default), you may want to consider using a method for stiff equations. See the solver pages for more details (e.g. https://diffeq.sciml.ai/stable/solvers/ode_solve/#Stiff-Problems).\n",
      "└ @ SciMLBase /global/homes/m/maadrian/.julia/nersc/perlmutter/packages/SciMLBase/mOGJz/src/integrator_interface.jl:502\n",
      "┌ Warning: Interrupted. Larger maxiters is needed. If you are using an integrator for non-stiff ODEs or an automatic switching algorithm (the default), you may want to consider using a method for stiff equations. See the solver pages for more details (e.g. https://diffeq.sciml.ai/stable/solvers/ode_solve/#Stiff-Problems).\n",
      "└ @ SciMLBase /global/homes/m/maadrian/.julia/nersc/perlmutter/packages/SciMLBase/mOGJz/src/integrator_interface.jl:502\n",
      "┌ Warning: Interrupted. Larger maxiters is needed. If you are using an integrator for non-stiff ODEs or an automatic switching algorithm (the default), you may want to consider using a method for stiff equations. See the solver pages for more details (e.g. https://diffeq.sciml.ai/stable/solvers/ode_solve/#Stiff-Problems).\n",
      "└ @ SciMLBase /global/homes/m/maadrian/.julia/nersc/perlmutter/packages/SciMLBase/mOGJz/src/integrator_interface.jl:502\n",
      "┌ Warning: Interrupted. Larger maxiters is needed. If you are using an integrator for non-stiff ODEs or an automatic switching algorithm (the default), you may want to consider using a method for stiff equations. See the solver pages for more details (e.g. https://diffeq.sciml.ai/stable/solvers/ode_solve/#Stiff-Problems).\n",
      "└ @ SciMLBase /global/homes/m/maadrian/.julia/nersc/perlmutter/packages/SciMLBase/mOGJz/src/integrator_interface.jl:502\n",
      "┌ Warning: Interrupted. Larger maxiters is needed. If you are using an integrator for non-stiff ODEs or an automatic switching algorithm (the default), you may want to consider using a method for stiff equations. See the solver pages for more details (e.g. https://diffeq.sciml.ai/stable/solvers/ode_solve/#Stiff-Problems).\n",
      "└ @ SciMLBase /global/homes/m/maadrian/.julia/nersc/perlmutter/packages/SciMLBase/mOGJz/src/integrator_interface.jl:502\n",
      "┌ Warning: Interrupted. Larger maxiters is needed. If you are using an integrator for non-stiff ODEs or an automatic switching algorithm (the default), you may want to consider using a method for stiff equations. See the solver pages for more details (e.g. https://diffeq.sciml.ai/stable/solvers/ode_solve/#Stiff-Problems).\n",
      "└ @ SciMLBase /global/homes/m/maadrian/.julia/nersc/perlmutter/packages/SciMLBase/mOGJz/src/integrator_interface.jl:502\n",
      "┌ Warning: Interrupted. Larger maxiters is needed. If you are using an integrator for non-stiff ODEs or an automatic switching algorithm (the default), you may want to consider using a method for stiff equations. See the solver pages for more details (e.g. https://diffeq.sciml.ai/stable/solvers/ode_solve/#Stiff-Problems).\n",
      "└ @ SciMLBase /global/homes/m/maadrian/.julia/nersc/perlmutter/packages/SciMLBase/mOGJz/src/integrator_interface.jl:502\n",
      "┌ Warning: Interrupted. Larger maxiters is needed. If you are using an integrator for non-stiff ODEs or an automatic switching algorithm (the default), you may want to consider using a method for stiff equations. See the solver pages for more details (e.g. https://diffeq.sciml.ai/stable/solvers/ode_solve/#Stiff-Problems).\n",
      "└ @ SciMLBase /global/homes/m/maadrian/.julia/nersc/perlmutter/packages/SciMLBase/mOGJz/src/integrator_interface.jl:502\n",
      "┌ Warning: Interrupted. Larger maxiters is needed. If you are using an integrator for non-stiff ODEs or an automatic switching algorithm (the default), you may want to consider using a method for stiff equations. See the solver pages for more details (e.g. https://diffeq.sciml.ai/stable/solvers/ode_solve/#Stiff-Problems).\n",
      "└ @ SciMLBase /global/homes/m/maadrian/.julia/nersc/perlmutter/packages/SciMLBase/mOGJz/src/integrator_interface.jl:502\n",
      "┌ Warning: Interrupted. Larger maxiters is needed. If you are using an integrator for non-stiff ODEs or an automatic switching algorithm (the default), you may want to consider using a method for stiff equations. See the solver pages for more details (e.g. https://diffeq.sciml.ai/stable/solvers/ode_solve/#Stiff-Problems).\n",
      "└ @ SciMLBase /global/homes/m/maadrian/.julia/nersc/perlmutter/packages/SciMLBase/mOGJz/src/integrator_interface.jl:502\n",
      "┌ Warning: Interrupted. Larger maxiters is needed. If you are using an integrator for non-stiff ODEs or an automatic switching algorithm (the default), you may want to consider using a method for stiff equations. See the solver pages for more details (e.g. https://diffeq.sciml.ai/stable/solvers/ode_solve/#Stiff-Problems).\n",
      "└ @ SciMLBase /global/homes/m/maadrian/.julia/nersc/perlmutter/packages/SciMLBase/mOGJz/src/integrator_interface.jl:502\n",
      "┌ Warning: Interrupted. Larger maxiters is needed. If you are using an integrator for non-stiff ODEs or an automatic switching algorithm (the default), you may want to consider using a method for stiff equations. See the solver pages for more details (e.g. https://diffeq.sciml.ai/stable/solvers/ode_solve/#Stiff-Problems).\n",
      "└ @ SciMLBase /global/homes/m/maadrian/.julia/nersc/perlmutter/packages/SciMLBase/mOGJz/src/integrator_interface.jl:502\n",
      "┌ Warning: Interrupted. Larger maxiters is needed. If you are using an integrator for non-stiff ODEs or an automatic switching algorithm (the default), you may want to consider using a method for stiff equations. See the solver pages for more details (e.g. https://diffeq.sciml.ai/stable/solvers/ode_solve/#Stiff-Problems).\n",
      "└ @ SciMLBase /global/homes/m/maadrian/.julia/nersc/perlmutter/packages/SciMLBase/mOGJz/src/integrator_interface.jl:502\n",
      "┌ Warning: Interrupted. Larger maxiters is needed. If you are using an integrator for non-stiff ODEs or an automatic switching algorithm (the default), you may want to consider using a method for stiff equations. See the solver pages for more details (e.g. https://diffeq.sciml.ai/stable/solvers/ode_solve/#Stiff-Problems).\n",
      "└ @ SciMLBase /global/homes/m/maadrian/.julia/nersc/perlmutter/packages/SciMLBase/mOGJz/src/integrator_interface.jl:502\n",
      "┌ Warning: Interrupted. Larger maxiters is needed. If you are using an integrator for non-stiff ODEs or an automatic switching algorithm (the default), you may want to consider using a method for stiff equations. See the solver pages for more details (e.g. https://diffeq.sciml.ai/stable/solvers/ode_solve/#Stiff-Problems).\n",
      "└ @ SciMLBase /global/homes/m/maadrian/.julia/nersc/perlmutter/packages/SciMLBase/mOGJz/src/integrator_interface.jl:502\n",
      "┌ Warning: Interrupted. Larger maxiters is needed. If you are using an integrator for non-stiff ODEs or an automatic switching algorithm (the default), you may want to consider using a method for stiff equations. See the solver pages for more details (e.g. https://diffeq.sciml.ai/stable/solvers/ode_solve/#Stiff-Problems).\n",
      "└ @ SciMLBase /global/homes/m/maadrian/.julia/nersc/perlmutter/packages/SciMLBase/mOGJz/src/integrator_interface.jl:502\n",
      "┌ Warning: Interrupted. Larger maxiters is needed. If you are using an integrator for non-stiff ODEs or an automatic switching algorithm (the default), you may want to consider using a method for stiff equations. See the solver pages for more details (e.g. https://diffeq.sciml.ai/stable/solvers/ode_solve/#Stiff-Problems).\n",
      "└ @ SciMLBase /global/homes/m/maadrian/.julia/nersc/perlmutter/packages/SciMLBase/mOGJz/src/integrator_interface.jl:502\n",
      "┌ Warning: Interrupted. Larger maxiters is needed. If you are using an integrator for non-stiff ODEs or an automatic switching algorithm (the default), you may want to consider using a method for stiff equations. See the solver pages for more details (e.g. https://diffeq.sciml.ai/stable/solvers/ode_solve/#Stiff-Problems).\n",
      "└ @ SciMLBase /global/homes/m/maadrian/.julia/nersc/perlmutter/packages/SciMLBase/mOGJz/src/integrator_interface.jl:502\n",
      "┌ Warning: Interrupted. Larger maxiters is needed. If you are using an integrator for non-stiff ODEs or an automatic switching algorithm (the default), you may want to consider using a method for stiff equations. See the solver pages for more details (e.g. https://diffeq.sciml.ai/stable/solvers/ode_solve/#Stiff-Problems).\n",
      "└ @ SciMLBase /global/homes/m/maadrian/.julia/nersc/perlmutter/packages/SciMLBase/mOGJz/src/integrator_interface.jl:502\n",
      "┌ Warning: Interrupted. Larger maxiters is needed. If you are using an integrator for non-stiff ODEs or an automatic switching algorithm (the default), you may want to consider using a method for stiff equations. See the solver pages for more details (e.g. https://diffeq.sciml.ai/stable/solvers/ode_solve/#Stiff-Problems).\n",
      "└ @ SciMLBase /global/homes/m/maadrian/.julia/nersc/perlmutter/packages/SciMLBase/mOGJz/src/integrator_interface.jl:502\n",
      "┌ Warning: Interrupted. Larger maxiters is needed. If you are using an integrator for non-stiff ODEs or an automatic switching algorithm (the default), you may want to consider using a method for stiff equations. See the solver pages for more details (e.g. https://diffeq.sciml.ai/stable/solvers/ode_solve/#Stiff-Problems).\n",
      "└ @ SciMLBase /global/homes/m/maadrian/.julia/nersc/perlmutter/packages/SciMLBase/mOGJz/src/integrator_interface.jl:502\n",
      "┌ Warning: Interrupted. Larger maxiters is needed. If you are using an integrator for non-stiff ODEs or an automatic switching algorithm (the default), you may want to consider using a method for stiff equations. See the solver pages for more details (e.g. https://diffeq.sciml.ai/stable/solvers/ode_solve/#Stiff-Problems).\n",
      "└ @ SciMLBase /global/homes/m/maadrian/.julia/nersc/perlmutter/packages/SciMLBase/mOGJz/src/integrator_interface.jl:502\n",
      "┌ Warning: Interrupted. Larger maxiters is needed. If you are using an integrator for non-stiff ODEs or an automatic switching algorithm (the default), you may want to consider using a method for stiff equations. See the solver pages for more details (e.g. https://diffeq.sciml.ai/stable/solvers/ode_solve/#Stiff-Problems).\n",
      "└ @ SciMLBase /global/homes/m/maadrian/.julia/nersc/perlmutter/packages/SciMLBase/mOGJz/src/integrator_interface.jl:502\n",
      "┌ Warning: Interrupted. Larger maxiters is needed. If you are using an integrator for non-stiff ODEs or an automatic switching algorithm (the default), you may want to consider using a method for stiff equations. See the solver pages for more details (e.g. https://diffeq.sciml.ai/stable/solvers/ode_solve/#Stiff-Problems).\n",
      "└ @ SciMLBase /global/homes/m/maadrian/.julia/nersc/perlmutter/packages/SciMLBase/mOGJz/src/integrator_interface.jl:502\n",
      "┌ Warning: Interrupted. Larger maxiters is needed. If you are using an integrator for non-stiff ODEs or an automatic switching algorithm (the default), you may want to consider using a method for stiff equations. See the solver pages for more details (e.g. https://diffeq.sciml.ai/stable/solvers/ode_solve/#Stiff-Problems).\n",
      "└ @ SciMLBase /global/homes/m/maadrian/.julia/nersc/perlmutter/packages/SciMLBase/mOGJz/src/integrator_interface.jl:502\n",
      "┌ Warning: Interrupted. Larger maxiters is needed. If you are using an integrator for non-stiff ODEs or an automatic switching algorithm (the default), you may want to consider using a method for stiff equations. See the solver pages for more details (e.g. https://diffeq.sciml.ai/stable/solvers/ode_solve/#Stiff-Problems).\n",
      "└ @ SciMLBase /global/homes/m/maadrian/.julia/nersc/perlmutter/packages/SciMLBase/mOGJz/src/integrator_interface.jl:502\n",
      "┌ Warning: Interrupted. Larger maxiters is needed. If you are using an integrator for non-stiff ODEs or an automatic switching algorithm (the default), you may want to consider using a method for stiff equations. See the solver pages for more details (e.g. https://diffeq.sciml.ai/stable/solvers/ode_solve/#Stiff-Problems).\n",
      "└ @ SciMLBase /global/homes/m/maadrian/.julia/nersc/perlmutter/packages/SciMLBase/mOGJz/src/integrator_interface.jl:502\n",
      "┌ Warning: Interrupted. Larger maxiters is needed. If you are using an integrator for non-stiff ODEs or an automatic switching algorithm (the default), you may want to consider using a method for stiff equations. See the solver pages for more details (e.g. https://diffeq.sciml.ai/stable/solvers/ode_solve/#Stiff-Problems).\n",
      "└ @ SciMLBase /global/homes/m/maadrian/.julia/nersc/perlmutter/packages/SciMLBase/mOGJz/src/integrator_interface.jl:502\n",
      "┌ Warning: Interrupted. Larger maxiters is needed. If you are using an integrator for non-stiff ODEs or an automatic switching algorithm (the default), you may want to consider using a method for stiff equations. See the solver pages for more details (e.g. https://diffeq.sciml.ai/stable/solvers/ode_solve/#Stiff-Problems).\n",
      "└ @ SciMLBase /global/homes/m/maadrian/.julia/nersc/perlmutter/packages/SciMLBase/mOGJz/src/integrator_interface.jl:502\n",
      "┌ Warning: Interrupted. Larger maxiters is needed. If you are using an integrator for non-stiff ODEs or an automatic switching algorithm (the default), you may want to consider using a method for stiff equations. See the solver pages for more details (e.g. https://diffeq.sciml.ai/stable/solvers/ode_solve/#Stiff-Problems).\n",
      "└ @ SciMLBase /global/homes/m/maadrian/.julia/nersc/perlmutter/packages/SciMLBase/mOGJz/src/integrator_interface.jl:502\n",
      "┌ Warning: Interrupted. Larger maxiters is needed. If you are using an integrator for non-stiff ODEs or an automatic switching algorithm (the default), you may want to consider using a method for stiff equations. See the solver pages for more details (e.g. https://diffeq.sciml.ai/stable/solvers/ode_solve/#Stiff-Problems).\n",
      "└ @ SciMLBase /global/homes/m/maadrian/.julia/nersc/perlmutter/packages/SciMLBase/mOGJz/src/integrator_interface.jl:502\n",
      "┌ Warning: Interrupted. Larger maxiters is needed. If you are using an integrator for non-stiff ODEs or an automatic switching algorithm (the default), you may want to consider using a method for stiff equations. See the solver pages for more details (e.g. https://diffeq.sciml.ai/stable/solvers/ode_solve/#Stiff-Problems).\n",
      "└ @ SciMLBase /global/homes/m/maadrian/.julia/nersc/perlmutter/packages/SciMLBase/mOGJz/src/integrator_interface.jl:502\n"
     ]
    },
    {
     "data": {
      "text/plain": [
       "GlobalSensitivity.SobolResult{Matrix{Float64}, Nothing, Nothing, Nothing}([-2.6955202163980017e-14 -5.4066908468756184e-12 … -1.0141476412696492e-13 -1.779528070118712e-13; 8.622741457154162e-24 8.621647359562652e-24 … 8.6385728076207e-24 1.4409659876677726e-23; … ; -0.006964779337130957 -0.04532234796889679 … -0.0008949775766107998 -0.4446331290105583; -0.002340808414262125 -0.015232965979210037 … -0.0003007953177393683 -0.1494422150185261], nothing, nothing, nothing, [0.3047562168372056 1.9829846918891196 … 0.03930118960163009 19.452194072886062; 0.00883445613546066 0.0162828991003685 … 0.010323916843760519 0.016242434938261528; … ; 0.29728054966733686 1.9327873842525358 … 0.038750308342150375 18.953582976149377; 0.2988778333165123 1.9420283714180675 … 0.03931953961036894 19.039050353842725], nothing)"
      ]
     },
     "execution_count": 13,
     "metadata": {},
     "output_type": "execute_result"
    }
   ],
   "source": [
    "samples = 60\n",
    "sampler = SobolSample()\n",
    "A,B = QuasiMonteCarlo.generate_design_matrices(samples,lower_b,upper_b,sampler)\n",
    "\n",
    "res1 = gsa(sample,Sobol(order=[0,1]),A,B)"
   ]
  },
  {
   "cell_type": "code",
   "execution_count": 16,
   "id": "8c2abaf9-feda-43b6-a035-ccb4aa1262fe",
   "metadata": {
    "tags": []
   },
   "outputs": [
    {
     "name": "stdout",
     "output_type": "stream",
     "text": [
      " 51.983279 seconds (389.48 M allocations: 41.476 GiB, 34.70% gc time)\n"
     ]
    },
    {
     "data": {
      "text/plain": [
       "GlobalSensitivity.SobolResult{Matrix{Float64}, Nothing, Nothing, Nothing}([0.0 0.03678338080535124 … 0.0 8.116015507087933; 0.0 0.0 … 0.0 0.0; … ; 1.4343441781727944e-11 0.04515244098491086 … 2.0e-323 5.197963100383334; 1.6127941589090608e-8 -0.04636688845784049 … -8.591159289782138e-8 -0.032200629745382674], nothing, nothing, nothing, [0.0 0.0 … 0.0 0.0; 2.7438501404423634e-9 -0.005002365988224386 … -2.1195696597682665 1.6061225231103973; … ; 3.572302948778346e-10 -0.012809662135851448 … -0.19656396196566991 0.14775510396541633; -6.696114840179484e-9 0.017921310237586193 … 2.7371412764556207e-8 1.1733861261007494], nothing)"
      ]
     },
     "execution_count": 16,
     "metadata": {},
     "output_type": "execute_result"
    }
   ],
   "source": [
    "@time begin\n",
    "    samples = 5\n",
    "    sampler = SobolSample()\n",
    "    A,B = QuasiMonteCarlo.generate_design_matrices(samples,lower_b,upper_b,sampler)\n",
    "\n",
    "    res5 = gsa(sample,Sobol(order=[0,1]),A,B)\n",
    "end\n",
    "\n"
   ]
  },
  {
   "cell_type": "code",
   "execution_count": null,
   "id": "76850388-0f93-432c-a60a-ce4fe0bfdc91",
   "metadata": {},
   "outputs": [],
   "source": [
    "# batched\n",
    "@time begin\n",
    "    samples = 5\n",
    "    sampler = SobolSample()\n",
    "    A,B = QuasiMonteCarlo.generate_design_matrices(samples,lower_b,upper_b,sampler)\n",
    "\n",
    "    res5 = gsa(sample,Sobol(order=[0,1]),A,B)\n",
    "end"
   ]
  },
  {
   "cell_type": "code",
   "execution_count": 17,
   "id": "404e6d9c-fde4-4501-9209-e0b1b9d68bcc",
   "metadata": {
    "tags": []
   },
   "outputs": [
    {
     "name": "stdout",
     "output_type": "stream",
     "text": [
      "124.936401 seconds (927.53 M allocations: 98.400 GiB, 35.00% gc time)\n"
     ]
    },
    {
     "name": "stderr",
     "output_type": "stream",
     "text": [
      "┌ Warning: Interrupted. Larger maxiters is needed. If you are using an integrator for non-stiff ODEs or an automatic switching algorithm (the default), you may want to consider using a method for stiff equations. See the solver pages for more details (e.g. https://diffeq.sciml.ai/stable/solvers/ode_solve/#Stiff-Problems).\n",
      "└ @ SciMLBase /global/homes/m/maadrian/.julia/nersc/perlmutter/packages/SciMLBase/mOGJz/src/integrator_interface.jl:502\n",
      "┌ Warning: Interrupted. Larger maxiters is needed. If you are using an integrator for non-stiff ODEs or an automatic switching algorithm (the default), you may want to consider using a method for stiff equations. See the solver pages for more details (e.g. https://diffeq.sciml.ai/stable/solvers/ode_solve/#Stiff-Problems).\n",
      "└ @ SciMLBase /global/homes/m/maadrian/.julia/nersc/perlmutter/packages/SciMLBase/mOGJz/src/integrator_interface.jl:502\n",
      "┌ Warning: Interrupted. Larger maxiters is needed. If you are using an integrator for non-stiff ODEs or an automatic switching algorithm (the default), you may want to consider using a method for stiff equations. See the solver pages for more details (e.g. https://diffeq.sciml.ai/stable/solvers/ode_solve/#Stiff-Problems).\n",
      "└ @ SciMLBase /global/homes/m/maadrian/.julia/nersc/perlmutter/packages/SciMLBase/mOGJz/src/integrator_interface.jl:502\n",
      "┌ Warning: Interrupted. Larger maxiters is needed. If you are using an integrator for non-stiff ODEs or an automatic switching algorithm (the default), you may want to consider using a method for stiff equations. See the solver pages for more details (e.g. https://diffeq.sciml.ai/stable/solvers/ode_solve/#Stiff-Problems).\n",
      "└ @ SciMLBase /global/homes/m/maadrian/.julia/nersc/perlmutter/packages/SciMLBase/mOGJz/src/integrator_interface.jl:502\n",
      "┌ Warning: Interrupted. Larger maxiters is needed. If you are using an integrator for non-stiff ODEs or an automatic switching algorithm (the default), you may want to consider using a method for stiff equations. See the solver pages for more details (e.g. https://diffeq.sciml.ai/stable/solvers/ode_solve/#Stiff-Problems).\n",
      "└ @ SciMLBase /global/homes/m/maadrian/.julia/nersc/perlmutter/packages/SciMLBase/mOGJz/src/integrator_interface.jl:502\n",
      "┌ Warning: Interrupted. Larger maxiters is needed. If you are using an integrator for non-stiff ODEs or an automatic switching algorithm (the default), you may want to consider using a method for stiff equations. See the solver pages for more details (e.g. https://diffeq.sciml.ai/stable/solvers/ode_solve/#Stiff-Problems).\n",
      "└ @ SciMLBase /global/homes/m/maadrian/.julia/nersc/perlmutter/packages/SciMLBase/mOGJz/src/integrator_interface.jl:502\n",
      "┌ Warning: Interrupted. Larger maxiters is needed. If you are using an integrator for non-stiff ODEs or an automatic switching algorithm (the default), you may want to consider using a method for stiff equations. See the solver pages for more details (e.g. https://diffeq.sciml.ai/stable/solvers/ode_solve/#Stiff-Problems).\n",
      "└ @ SciMLBase /global/homes/m/maadrian/.julia/nersc/perlmutter/packages/SciMLBase/mOGJz/src/integrator_interface.jl:502\n",
      "┌ Warning: Interrupted. Larger maxiters is needed. If you are using an integrator for non-stiff ODEs or an automatic switching algorithm (the default), you may want to consider using a method for stiff equations. See the solver pages for more details (e.g. https://diffeq.sciml.ai/stable/solvers/ode_solve/#Stiff-Problems).\n",
      "└ @ SciMLBase /global/homes/m/maadrian/.julia/nersc/perlmutter/packages/SciMLBase/mOGJz/src/integrator_interface.jl:502\n",
      "┌ Warning: Interrupted. Larger maxiters is needed. If you are using an integrator for non-stiff ODEs or an automatic switching algorithm (the default), you may want to consider using a method for stiff equations. See the solver pages for more details (e.g. https://diffeq.sciml.ai/stable/solvers/ode_solve/#Stiff-Problems).\n",
      "└ @ SciMLBase /global/homes/m/maadrian/.julia/nersc/perlmutter/packages/SciMLBase/mOGJz/src/integrator_interface.jl:502\n",
      "┌ Warning: Interrupted. Larger maxiters is needed. If you are using an integrator for non-stiff ODEs or an automatic switching algorithm (the default), you may want to consider using a method for stiff equations. See the solver pages for more details (e.g. https://diffeq.sciml.ai/stable/solvers/ode_solve/#Stiff-Problems).\n",
      "└ @ SciMLBase /global/homes/m/maadrian/.julia/nersc/perlmutter/packages/SciMLBase/mOGJz/src/integrator_interface.jl:502\n",
      "┌ Warning: Interrupted. Larger maxiters is needed. If you are using an integrator for non-stiff ODEs or an automatic switching algorithm (the default), you may want to consider using a method for stiff equations. See the solver pages for more details (e.g. https://diffeq.sciml.ai/stable/solvers/ode_solve/#Stiff-Problems).\n",
      "└ @ SciMLBase /global/homes/m/maadrian/.julia/nersc/perlmutter/packages/SciMLBase/mOGJz/src/integrator_interface.jl:502\n",
      "┌ Warning: Interrupted. Larger maxiters is needed. If you are using an integrator for non-stiff ODEs or an automatic switching algorithm (the default), you may want to consider using a method for stiff equations. See the solver pages for more details (e.g. https://diffeq.sciml.ai/stable/solvers/ode_solve/#Stiff-Problems).\n",
      "└ @ SciMLBase /global/homes/m/maadrian/.julia/nersc/perlmutter/packages/SciMLBase/mOGJz/src/integrator_interface.jl:502\n",
      "┌ Warning: Interrupted. Larger maxiters is needed. If you are using an integrator for non-stiff ODEs or an automatic switching algorithm (the default), you may want to consider using a method for stiff equations. See the solver pages for more details (e.g. https://diffeq.sciml.ai/stable/solvers/ode_solve/#Stiff-Problems).\n",
      "└ @ SciMLBase /global/homes/m/maadrian/.julia/nersc/perlmutter/packages/SciMLBase/mOGJz/src/integrator_interface.jl:502\n",
      "┌ Warning: Interrupted. Larger maxiters is needed. If you are using an integrator for non-stiff ODEs or an automatic switching algorithm (the default), you may want to consider using a method for stiff equations. See the solver pages for more details (e.g. https://diffeq.sciml.ai/stable/solvers/ode_solve/#Stiff-Problems).\n",
      "└ @ SciMLBase /global/homes/m/maadrian/.julia/nersc/perlmutter/packages/SciMLBase/mOGJz/src/integrator_interface.jl:502\n",
      "┌ Warning: Interrupted. Larger maxiters is needed. If you are using an integrator for non-stiff ODEs or an automatic switching algorithm (the default), you may want to consider using a method for stiff equations. See the solver pages for more details (e.g. https://diffeq.sciml.ai/stable/solvers/ode_solve/#Stiff-Problems).\n",
      "└ @ SciMLBase /global/homes/m/maadrian/.julia/nersc/perlmutter/packages/SciMLBase/mOGJz/src/integrator_interface.jl:502\n",
      "┌ Warning: Interrupted. Larger maxiters is needed. If you are using an integrator for non-stiff ODEs or an automatic switching algorithm (the default), you may want to consider using a method for stiff equations. See the solver pages for more details (e.g. https://diffeq.sciml.ai/stable/solvers/ode_solve/#Stiff-Problems).\n",
      "└ @ SciMLBase /global/homes/m/maadrian/.julia/nersc/perlmutter/packages/SciMLBase/mOGJz/src/integrator_interface.jl:502\n",
      "┌ Warning: Interrupted. Larger maxiters is needed. If you are using an integrator for non-stiff ODEs or an automatic switching algorithm (the default), you may want to consider using a method for stiff equations. See the solver pages for more details (e.g. https://diffeq.sciml.ai/stable/solvers/ode_solve/#Stiff-Problems).\n",
      "└ @ SciMLBase /global/homes/m/maadrian/.julia/nersc/perlmutter/packages/SciMLBase/mOGJz/src/integrator_interface.jl:502\n",
      "┌ Warning: Interrupted. Larger maxiters is needed. If you are using an integrator for non-stiff ODEs or an automatic switching algorithm (the default), you may want to consider using a method for stiff equations. See the solver pages for more details (e.g. https://diffeq.sciml.ai/stable/solvers/ode_solve/#Stiff-Problems).\n",
      "└ @ SciMLBase /global/homes/m/maadrian/.julia/nersc/perlmutter/packages/SciMLBase/mOGJz/src/integrator_interface.jl:502\n",
      "┌ Warning: Interrupted. Larger maxiters is needed. If you are using an integrator for non-stiff ODEs or an automatic switching algorithm (the default), you may want to consider using a method for stiff equations. See the solver pages for more details (e.g. https://diffeq.sciml.ai/stable/solvers/ode_solve/#Stiff-Problems).\n",
      "└ @ SciMLBase /global/homes/m/maadrian/.julia/nersc/perlmutter/packages/SciMLBase/mOGJz/src/integrator_interface.jl:502\n",
      "┌ Warning: Interrupted. Larger maxiters is needed. If you are using an integrator for non-stiff ODEs or an automatic switching algorithm (the default), you may want to consider using a method for stiff equations. See the solver pages for more details (e.g. https://diffeq.sciml.ai/stable/solvers/ode_solve/#Stiff-Problems).\n",
      "└ @ SciMLBase /global/homes/m/maadrian/.julia/nersc/perlmutter/packages/SciMLBase/mOGJz/src/integrator_interface.jl:502\n"
     ]
    },
    {
     "data": {
      "text/plain": [
       "GlobalSensitivity.SobolResult{Matrix{Float64}, Nothing, Nothing, Nothing}([0.0 5.2744146842939334e-55 … 0.0 7.07081308813e-312; -0.0 -0.0 … 0.0 1.1413000981546593e-12; … ; -1.1688949503967646e-82 6.003198107549783e-28 … -7.723072415472669e-79 1.1021698064011574e-12; 7.2159449128385e-17 1.3250390602741246e-19 … 1.768512942050468e-15 -1.7205137492387355e-14], nothing, nothing, nothing, [1.178062734526257e-9 0.4184948817674143 … -6.978135586652762e-13 -2.7441033513735397e11; 0.021999994163298453 4.103609565463346e-6 … -0.7139258256680222 1.1424545013534262e-27; … ; 0.02199998843893582 4.114088119050582e-6 … -0.7139258402027089 -1.7369233156134623e-13; 0.021903873799339276 4.022132749637059e-5 … 0.5368289913944725 2.587831680958343e-12], nothing)"
      ]
     },
     "execution_count": 17,
     "metadata": {},
     "output_type": "execute_result"
    }
   ],
   "source": [
    "@time begin\n",
    "    samples = 10\n",
    "    sampler = SobolSample()\n",
    "    A,B = QuasiMonteCarlo.generate_design_matrices(samples,lower_b,upper_b,sampler)\n",
    "\n",
    "    res10 = gsa(sample,Sobol(order=[0,1]),A,B)\n",
    "end\n",
    "\n"
   ]
  },
  {
   "cell_type": "code",
   "execution_count": 18,
   "id": "5be7107a-6865-49f4-ac4e-99f6b482bcd8",
   "metadata": {
    "tags": []
   },
   "outputs": [
    {
     "name": "stderr",
     "output_type": "stream",
     "text": [
      "┌ Warning: Interrupted. Larger maxiters is needed. If you are using an integrator for non-stiff ODEs or an automatic switching algorithm (the default), you may want to consider using a method for stiff equations. See the solver pages for more details (e.g. https://diffeq.sciml.ai/stable/solvers/ode_solve/#Stiff-Problems).\n",
      "└ @ SciMLBase /global/homes/m/maadrian/.julia/nersc/perlmutter/packages/SciMLBase/mOGJz/src/integrator_interface.jl:502\n",
      "┌ Warning: Interrupted. Larger maxiters is needed. If you are using an integrator for non-stiff ODEs or an automatic switching algorithm (the default), you may want to consider using a method for stiff equations. See the solver pages for more details (e.g. https://diffeq.sciml.ai/stable/solvers/ode_solve/#Stiff-Problems).\n",
      "└ @ SciMLBase /global/homes/m/maadrian/.julia/nersc/perlmutter/packages/SciMLBase/mOGJz/src/integrator_interface.jl:502\n",
      "┌ Warning: Interrupted. Larger maxiters is needed. If you are using an integrator for non-stiff ODEs or an automatic switching algorithm (the default), you may want to consider using a method for stiff equations. See the solver pages for more details (e.g. https://diffeq.sciml.ai/stable/solvers/ode_solve/#Stiff-Problems).\n",
      "└ @ SciMLBase /global/homes/m/maadrian/.julia/nersc/perlmutter/packages/SciMLBase/mOGJz/src/integrator_interface.jl:502\n",
      "┌ Warning: Interrupted. Larger maxiters is needed. If you are using an integrator for non-stiff ODEs or an automatic switching algorithm (the default), you may want to consider using a method for stiff equations. See the solver pages for more details (e.g. https://diffeq.sciml.ai/stable/solvers/ode_solve/#Stiff-Problems).\n",
      "└ @ SciMLBase /global/homes/m/maadrian/.julia/nersc/perlmutter/packages/SciMLBase/mOGJz/src/integrator_interface.jl:502\n",
      "┌ Warning: Interrupted. Larger maxiters is needed. If you are using an integrator for non-stiff ODEs or an automatic switching algorithm (the default), you may want to consider using a method for stiff equations. See the solver pages for more details (e.g. https://diffeq.sciml.ai/stable/solvers/ode_solve/#Stiff-Problems).\n",
      "└ @ SciMLBase /global/homes/m/maadrian/.julia/nersc/perlmutter/packages/SciMLBase/mOGJz/src/integrator_interface.jl:502\n",
      "┌ Warning: Interrupted. Larger maxiters is needed. If you are using an integrator for non-stiff ODEs or an automatic switching algorithm (the default), you may want to consider using a method for stiff equations. See the solver pages for more details (e.g. https://diffeq.sciml.ai/stable/solvers/ode_solve/#Stiff-Problems).\n",
      "└ @ SciMLBase /global/homes/m/maadrian/.julia/nersc/perlmutter/packages/SciMLBase/mOGJz/src/integrator_interface.jl:502\n",
      "┌ Warning: Interrupted. Larger maxiters is needed. If you are using an integrator for non-stiff ODEs or an automatic switching algorithm (the default), you may want to consider using a method for stiff equations. See the solver pages for more details (e.g. https://diffeq.sciml.ai/stable/solvers/ode_solve/#Stiff-Problems).\n",
      "└ @ SciMLBase /global/homes/m/maadrian/.julia/nersc/perlmutter/packages/SciMLBase/mOGJz/src/integrator_interface.jl:502\n",
      "┌ Warning: Interrupted. Larger maxiters is needed. If you are using an integrator for non-stiff ODEs or an automatic switching algorithm (the default), you may want to consider using a method for stiff equations. See the solver pages for more details (e.g. https://diffeq.sciml.ai/stable/solvers/ode_solve/#Stiff-Problems).\n",
      "└ @ SciMLBase /global/homes/m/maadrian/.julia/nersc/perlmutter/packages/SciMLBase/mOGJz/src/integrator_interface.jl:502\n",
      "┌ Warning: Interrupted. Larger maxiters is needed. If you are using an integrator for non-stiff ODEs or an automatic switching algorithm (the default), you may want to consider using a method for stiff equations. See the solver pages for more details (e.g. https://diffeq.sciml.ai/stable/solvers/ode_solve/#Stiff-Problems).\n",
      "└ @ SciMLBase /global/homes/m/maadrian/.julia/nersc/perlmutter/packages/SciMLBase/mOGJz/src/integrator_interface.jl:502\n",
      "┌ Warning: Interrupted. Larger maxiters is needed. If you are using an integrator for non-stiff ODEs or an automatic switching algorithm (the default), you may want to consider using a method for stiff equations. See the solver pages for more details (e.g. https://diffeq.sciml.ai/stable/solvers/ode_solve/#Stiff-Problems).\n",
      "└ @ SciMLBase /global/homes/m/maadrian/.julia/nersc/perlmutter/packages/SciMLBase/mOGJz/src/integrator_interface.jl:502\n",
      "┌ Warning: Interrupted. Larger maxiters is needed. If you are using an integrator for non-stiff ODEs or an automatic switching algorithm (the default), you may want to consider using a method for stiff equations. See the solver pages for more details (e.g. https://diffeq.sciml.ai/stable/solvers/ode_solve/#Stiff-Problems).\n",
      "└ @ SciMLBase /global/homes/m/maadrian/.julia/nersc/perlmutter/packages/SciMLBase/mOGJz/src/integrator_interface.jl:502\n",
      "┌ Warning: Interrupted. Larger maxiters is needed. If you are using an integrator for non-stiff ODEs or an automatic switching algorithm (the default), you may want to consider using a method for stiff equations. See the solver pages for more details (e.g. https://diffeq.sciml.ai/stable/solvers/ode_solve/#Stiff-Problems).\n",
      "└ @ SciMLBase /global/homes/m/maadrian/.julia/nersc/perlmutter/packages/SciMLBase/mOGJz/src/integrator_interface.jl:502\n",
      "┌ Warning: Interrupted. Larger maxiters is needed. If you are using an integrator for non-stiff ODEs or an automatic switching algorithm (the default), you may want to consider using a method for stiff equations. See the solver pages for more details (e.g. https://diffeq.sciml.ai/stable/solvers/ode_solve/#Stiff-Problems).\n",
      "└ @ SciMLBase /global/homes/m/maadrian/.julia/nersc/perlmutter/packages/SciMLBase/mOGJz/src/integrator_interface.jl:502\n",
      "┌ Warning: Interrupted. Larger maxiters is needed. If you are using an integrator for non-stiff ODEs or an automatic switching algorithm (the default), you may want to consider using a method for stiff equations. See the solver pages for more details (e.g. https://diffeq.sciml.ai/stable/solvers/ode_solve/#Stiff-Problems).\n",
      "└ @ SciMLBase /global/homes/m/maadrian/.julia/nersc/perlmutter/packages/SciMLBase/mOGJz/src/integrator_interface.jl:502\n",
      "┌ Warning: Interrupted. Larger maxiters is needed. If you are using an integrator for non-stiff ODEs or an automatic switching algorithm (the default), you may want to consider using a method for stiff equations. See the solver pages for more details (e.g. https://diffeq.sciml.ai/stable/solvers/ode_solve/#Stiff-Problems).\n",
      "└ @ SciMLBase /global/homes/m/maadrian/.julia/nersc/perlmutter/packages/SciMLBase/mOGJz/src/integrator_interface.jl:502\n",
      "┌ Warning: Interrupted. Larger maxiters is needed. If you are using an integrator for non-stiff ODEs or an automatic switching algorithm (the default), you may want to consider using a method for stiff equations. See the solver pages for more details (e.g. https://diffeq.sciml.ai/stable/solvers/ode_solve/#Stiff-Problems).\n",
      "└ @ SciMLBase /global/homes/m/maadrian/.julia/nersc/perlmutter/packages/SciMLBase/mOGJz/src/integrator_interface.jl:502\n",
      "┌ Warning: Interrupted. Larger maxiters is needed. If you are using an integrator for non-stiff ODEs or an automatic switching algorithm (the default), you may want to consider using a method for stiff equations. See the solver pages for more details (e.g. https://diffeq.sciml.ai/stable/solvers/ode_solve/#Stiff-Problems).\n",
      "└ @ SciMLBase /global/homes/m/maadrian/.julia/nersc/perlmutter/packages/SciMLBase/mOGJz/src/integrator_interface.jl:502\n",
      "┌ Warning: Interrupted. Larger maxiters is needed. If you are using an integrator for non-stiff ODEs or an automatic switching algorithm (the default), you may want to consider using a method for stiff equations. See the solver pages for more details (e.g. https://diffeq.sciml.ai/stable/solvers/ode_solve/#Stiff-Problems).\n",
      "└ @ SciMLBase /global/homes/m/maadrian/.julia/nersc/perlmutter/packages/SciMLBase/mOGJz/src/integrator_interface.jl:502\n",
      "┌ Warning: Interrupted. Larger maxiters is needed. If you are using an integrator for non-stiff ODEs or an automatic switching algorithm (the default), you may want to consider using a method for stiff equations. See the solver pages for more details (e.g. https://diffeq.sciml.ai/stable/solvers/ode_solve/#Stiff-Problems).\n",
      "└ @ SciMLBase /global/homes/m/maadrian/.julia/nersc/perlmutter/packages/SciMLBase/mOGJz/src/integrator_interface.jl:502\n",
      "┌ Warning: Interrupted. Larger maxiters is needed. If you are using an integrator for non-stiff ODEs or an automatic switching algorithm (the default), you may want to consider using a method for stiff equations. See the solver pages for more details (e.g. https://diffeq.sciml.ai/stable/solvers/ode_solve/#Stiff-Problems).\n",
      "└ @ SciMLBase /global/homes/m/maadrian/.julia/nersc/perlmutter/packages/SciMLBase/mOGJz/src/integrator_interface.jl:502\n",
      "┌ Warning: Interrupted. Larger maxiters is needed. If you are using an integrator for non-stiff ODEs or an automatic switching algorithm (the default), you may want to consider using a method for stiff equations. See the solver pages for more details (e.g. https://diffeq.sciml.ai/stable/solvers/ode_solve/#Stiff-Problems).\n",
      "└ @ SciMLBase /global/homes/m/maadrian/.julia/nersc/perlmutter/packages/SciMLBase/mOGJz/src/integrator_interface.jl:502\n",
      "┌ Warning: Interrupted. Larger maxiters is needed. If you are using an integrator for non-stiff ODEs or an automatic switching algorithm (the default), you may want to consider using a method for stiff equations. See the solver pages for more details (e.g. https://diffeq.sciml.ai/stable/solvers/ode_solve/#Stiff-Problems).\n",
      "└ @ SciMLBase /global/homes/m/maadrian/.julia/nersc/perlmutter/packages/SciMLBase/mOGJz/src/integrator_interface.jl:502\n",
      "┌ Warning: Interrupted. Larger maxiters is needed. If you are using an integrator for non-stiff ODEs or an automatic switching algorithm (the default), you may want to consider using a method for stiff equations. See the solver pages for more details (e.g. https://diffeq.sciml.ai/stable/solvers/ode_solve/#Stiff-Problems).\n",
      "└ @ SciMLBase /global/homes/m/maadrian/.julia/nersc/perlmutter/packages/SciMLBase/mOGJz/src/integrator_interface.jl:502\n",
      "┌ Warning: Interrupted. Larger maxiters is needed. If you are using an integrator for non-stiff ODEs or an automatic switching algorithm (the default), you may want to consider using a method for stiff equations. See the solver pages for more details (e.g. https://diffeq.sciml.ai/stable/solvers/ode_solve/#Stiff-Problems).\n",
      "└ @ SciMLBase /global/homes/m/maadrian/.julia/nersc/perlmutter/packages/SciMLBase/mOGJz/src/integrator_interface.jl:502\n"
     ]
    },
    {
     "name": "stdout",
     "output_type": "stream",
     "text": [
      "295.878216 seconds (2.10 G allocations: 222.245 GiB, 34.81% gc time)\n"
     ]
    },
    {
     "name": "stderr",
     "output_type": "stream",
     "text": [
      "┌ Warning: Interrupted. Larger maxiters is needed. If you are using an integrator for non-stiff ODEs or an automatic switching algorithm (the default), you may want to consider using a method for stiff equations. See the solver pages for more details (e.g. https://diffeq.sciml.ai/stable/solvers/ode_solve/#Stiff-Problems).\n",
      "└ @ SciMLBase /global/homes/m/maadrian/.julia/nersc/perlmutter/packages/SciMLBase/mOGJz/src/integrator_interface.jl:502\n",
      "┌ Warning: Interrupted. Larger maxiters is needed. If you are using an integrator for non-stiff ODEs or an automatic switching algorithm (the default), you may want to consider using a method for stiff equations. See the solver pages for more details (e.g. https://diffeq.sciml.ai/stable/solvers/ode_solve/#Stiff-Problems).\n",
      "└ @ SciMLBase /global/homes/m/maadrian/.julia/nersc/perlmutter/packages/SciMLBase/mOGJz/src/integrator_interface.jl:502\n",
      "┌ Warning: Interrupted. Larger maxiters is needed. If you are using an integrator for non-stiff ODEs or an automatic switching algorithm (the default), you may want to consider using a method for stiff equations. See the solver pages for more details (e.g. https://diffeq.sciml.ai/stable/solvers/ode_solve/#Stiff-Problems).\n",
      "└ @ SciMLBase /global/homes/m/maadrian/.julia/nersc/perlmutter/packages/SciMLBase/mOGJz/src/integrator_interface.jl:502\n"
     ]
    },
    {
     "data": {
      "text/plain": [
       "GlobalSensitivity.SobolResult{Matrix{Float64}, Nothing, Nothing, Nothing}([-0.0 2577.0308190425917 … 0.0 1.1927897139395602e-33; 1.7356539189172098e-24 -9.711259523473532e-18 … -5.9761585003773845e-18 -0.3674154346747859; … ; -1.0966321082844376e-17 157.65402382999176 … -4.364036374572562e-17 -1.0949951866264318; 3.4119130325480194e-18 62.39604014983417 … 8.651768042175803e-18 -0.13462174147326136], nothing, nothing, nothing, [2.5512320396835642e-39 9.130073261837203e-31 … -1.603163574363043e-42 -5.9415010761346585e-19; 0.7333157324551435 1.1092615186732875 … 1.742522999020544 -9.053744103262503; … ; 0.7173326082692543 1.08498634747334 … 1.689709665806487 -8.856411641290517; 0.7231572159171534 1.0944554780461118 … 1.833747739843049 -8.929247010511636], nothing)"
      ]
     },
     "execution_count": 18,
     "metadata": {},
     "output_type": "execute_result"
    }
   ],
   "source": [
    "@time begin\n",
    "    samples = 20\n",
    "    sampler = SobolSample()\n",
    "    A,B = QuasiMonteCarlo.generate_design_matrices(samples,lower_b,upper_b,sampler)\n",
    "\n",
    "    res20 = gsa(sample,Sobol(order=[0,1]),A,B)\n",
    "end\n",
    "\n"
   ]
  },
  {
   "cell_type": "code",
   "execution_count": 15,
   "id": "1924a35b-0623-4bc2-8e1e-8e8f3168ad0b",
   "metadata": {
    "tags": []
   },
   "outputs": [
    {
     "data": {
      "text/plain": [
       "6×20 Matrix{Float64}:\n",
       " 0.304756    1.98298      0.0132983   …   0.0104651   0.0393012   19.4522\n",
       " 0.00883446  0.0162829   -0.0874853       0.0162439   0.0103239    0.0162424\n",
       " 1.46184e-8  2.37688e-7   1.5034e-8       3.68529e-8  1.90393e-9   1.5034e-8\n",
       " 1.2908      1.95893      0.00826939      0.0104277   0.0388876   19.2154\n",
       " 0.297281    1.93279      0.0024706       0.0108985   0.0387503   18.9536\n",
       " 0.298878    1.94203     -0.00858469  …  -0.0252413   0.0393195   19.0391"
      ]
     },
     "execution_count": 15,
     "metadata": {},
     "output_type": "execute_result"
    }
   ],
   "source": [
    "res1.ST"
   ]
  },
  {
   "cell_type": "code",
   "execution_count": null,
   "id": "a60e106b-42e3-43ba-876a-7cba14051f86",
   "metadata": {},
   "outputs": [],
   "source": []
  },
  {
   "cell_type": "code",
   "execution_count": null,
   "id": "0d2e71a0-68a2-434f-b763-aa17476e3f77",
   "metadata": {
    "tags": []
   },
   "outputs": [],
   "source": [
    "using GlobalSensitivity, QuasiMonteCarlo, OrdinaryDiffEq, Statistics, CairoMakie\n",
    "\n",
    "function f(du,u,p,t)\n",
    "  du[1] = p[1]*u[1] - p[2]*u[1]*u[2] #prey\n",
    "  du[2] = -p[3]*u[2] + p[4]*u[1]*u[2] #predator\n",
    "end\n",
    "\n",
    "u0 = [1.0;1.0]\n",
    "tspan = (0.0,10.0)\n",
    "p = [1.5,1.0,3.0,1.0]\n",
    "prob = ODEProblem(f,u0,tspan,p)\n",
    "t = collect(range(0, stop=10, length=200))\n",
    "\n",
    "\n",
    "f1 = function (p)\n",
    "    prob1 = remake(prob;p=p)\n",
    "    sol = solve(prob1,Tsit5();saveat=t)\n",
    "    return [mean(sol[1,:]), maximum(sol[2,:])]\n",
    "end\n",
    "\n",
    "bounds = [[1,5],[1,5],[1,5],[1,5]]"
   ]
  },
  {
   "cell_type": "code",
   "execution_count": null,
   "id": "affbb4cd-9987-4440-abef-ba86e2b18f27",
   "metadata": {
    "tags": []
   },
   "outputs": [],
   "source": [
    "reg_sens = gsa(f1, RegressionGSA(true), bounds, samples = 200)\n",
    "#fig = Figure(resolution = (600, 400))\n",
    "#ax, hm = CairoMakie.heatmap(fig[1,1], reg_sens.partial_correlation, axis = (xticksvisible = false,yticksvisible = false, yticklabelsvisible = false, xticklabelsvisible = false, title = \"Partial correlation\"))\n",
    "#Colorbar(fig[1, 2], hm)\n",
    "#ax, hm = CairoMakie.heatmap(fig[2,1], reg_sens.standard_regression, axis = (xticksvisible = false,yticksvisible = false, yticklabelsvisible = false, xticklabelsvisible = false, title = \"Standard regression\"))\n",
    "#Colorbar(fig[2, 2], hm)\n",
    "#fig"
   ]
  },
  {
   "cell_type": "code",
   "execution_count": null,
   "id": "5beaf5c5-c9cc-48b6-ac2c-25108bb2a58d",
   "metadata": {
    "tags": []
   },
   "outputs": [],
   "source": [
    "reg_sens.standard_regression"
   ]
  },
  {
   "cell_type": "code",
   "execution_count": 10,
   "id": "6e5a059a-e4be-4af9-be5e-010cd913b7ed",
   "metadata": {},
   "outputs": [
    {
     "data": {
      "text/plain": [
       "3×5 Matrix{Float64}:\n",
       " 0.625413  0.125413  0.875413  0.375413  0.750413\n",
       " 0.713317  0.213317  0.463317  0.963317  0.0883173\n",
       " 0.659104  0.159104  0.409104  0.909104  0.0341036"
      ]
     },
     "execution_count": 10,
     "metadata": {},
     "output_type": "execute_result"
    }
   ],
   "source": [
    "using QuasiMonteCarlo\n",
    "# specify the upper and lower limits of the parameter ranges\n",
    "upper_b =  [1,1,1]\n",
    "lower_b = repeat([0],length(upper_b))\n",
    "\n",
    "# sample A and B\n",
    "sampler =LatticeRuleSample() # generates a sample -- seed is not fixed so we will get different draws every time this is called\n",
    "A = QuasiMonteCarlo.sample(5, lower_b, upper_b, sampler)\n",
    "B = QuasiMonteCarlo.sample(5, lower_b, upper_b, sampler) # A, B are shapes (# params, num_samples)\n"
   ]
  },
  {
   "cell_type": "code",
   "execution_count": 11,
   "id": "cc8dc715-8454-46cb-b41c-660de86ef5d0",
   "metadata": {
    "tags": []
   },
   "outputs": [
    {
     "data": {
      "text/plain": [
       "3×5 Matrix{Float64}:\n",
       " 0.1934    0.6934    0.4434    0.9434    0.3184\n",
       " 0.245919  0.745919  0.995919  0.495919  0.620919\n",
       " 0.744661  0.244661  0.494661  0.994661  0.119661"
      ]
     },
     "execution_count": 11,
     "metadata": {},
     "output_type": "execute_result"
    }
   ],
   "source": [
    "A"
   ]
  },
  {
   "cell_type": "code",
   "execution_count": 12,
   "id": "9769540a-f718-44e7-bbdf-1c55bdf701bf",
   "metadata": {
    "tags": []
   },
   "outputs": [
    {
     "data": {
      "text/plain": [
       "3×5 Matrix{Float64}:\n",
       " 0.625413  0.125413  0.875413  0.375413  0.750413\n",
       " 0.713317  0.213317  0.463317  0.963317  0.0883173\n",
       " 0.659104  0.159104  0.409104  0.909104  0.0341036"
      ]
     },
     "execution_count": 12,
     "metadata": {},
     "output_type": "execute_result"
    }
   ],
   "source": [
    "B"
   ]
  },
  {
   "cell_type": "code",
   "execution_count": 13,
   "id": "a8eb3656-efd1-46e0-8f1f-e5474074b6c2",
   "metadata": {
    "tags": []
   },
   "outputs": [
    {
     "data": {
      "text/plain": [
       "Ci (generic function with 1 method)"
      ]
     },
     "execution_count": 13,
     "metadata": {},
     "output_type": "execute_result"
    }
   ],
   "source": [
    "function Ci(i, A, B)    \n",
    "    B[i,:] = A[i,:]\n",
    "    return B\n",
    "end\n"
   ]
  },
  {
   "cell_type": "code",
   "execution_count": 14,
   "id": "d2e3178b-0a21-48b7-8fa4-d50470dfdb9a",
   "metadata": {
    "tags": []
   },
   "outputs": [
    {
     "data": {
      "text/plain": [
       "3×5 Matrix{Float64}:\n",
       " 0.1934    0.6934    0.4434    0.9434    0.3184\n",
       " 0.713317  0.213317  0.463317  0.963317  0.0883173\n",
       " 0.659104  0.159104  0.409104  0.909104  0.0341036"
      ]
     },
     "execution_count": 14,
     "metadata": {},
     "output_type": "execute_result"
    }
   ],
   "source": [
    "Ci(1,A,B)"
   ]
  },
  {
   "cell_type": "code",
   "execution_count": null,
   "id": "bc4fa90f-213c-408d-83c4-c03a14ba35a9",
   "metadata": {},
   "outputs": [],
   "source": []
  }
 ],
 "metadata": {
  "kernelspec": {
   "display_name": "Julia 1.8.0-beta1",
   "language": "julia",
   "name": "julia-1.8"
  },
  "language_info": {
   "file_extension": ".jl",
   "mimetype": "application/julia",
   "name": "julia",
   "version": "1.8.0"
  }
 },
 "nbformat": 4,
 "nbformat_minor": 5
}
