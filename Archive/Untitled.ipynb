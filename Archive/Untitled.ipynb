{
 "cells": [
  {
   "cell_type": "code",
   "execution_count": 32,
   "id": "adb1de6f-c479-4a19-bc72-e4027c1a7174",
   "metadata": {
    "tags": []
   },
   "outputs": [
    {
     "data": {
      "text/plain": [
       "center (generic function with 1 method)"
      ]
     },
     "execution_count": 32,
     "metadata": {},
     "output_type": "execute_result"
    }
   ],
   "source": [
    "using DifferentialEquations\n",
    "\n",
    "phi(a, gamma_a) = a ./ (a + gamma_a)\n",
    "\n",
    "function f(du,u,p0,t)\n",
    "    B, E, M, a, h, p = u\n",
    "    betaa, betab, betaE1, betaE2, betah1, betah2,betah3, betaM1, betaM2, betap, gammaa, gammaB, gammah, gammap, muaE, muaM, muhM, mupB, mupE, q = p0\n",
    "\n",
    "    du[1]= betab.*phi(p,gammap).*B - q.*B\n",
    "    du[2] = (betaE1.*phi(a, gammaa) + betaE2.*(1-phi(B, gammaB)).*phi(p, gammap)).*E - q.*E\n",
    "    du[3] = (betaM1.*phi(a, gammaa) + betaM2.*phi(h, gammah)).*M - q.*M\n",
    "\n",
    "    du[4] = betaa.*phi(p, gammap).*B - q.*a - (muaE.*E + muaM.*M).*phi(a, gammaa)\n",
    "    du[5] = betah1.*phi(a, gammaa).*E + betah2.*phi(p, gammap).*B + betah3.*(1-phi(B,gammaB)).*phi(p,gammap)*E- q.*h- muhM.*phi(h, gammah).*M\n",
    "    du[6] = betap.*q.*(cos.(t)+1).^3 - q.*p - (mupB.*B + mupE.*E).*phi(p, gammap)\n",
    "end\n",
    "\n",
    "\"\"\"\n",
    "Ci(i, A, B)\n",
    "\n",
    "Creates a new matrix C by replacing the ith column of matrix B \n",
    "with the ith column of matrix A.\n",
    "\n",
    " i - column number to be changed in matrix B\n",
    " A - matrix containing half of the pseudo-random samples (# params, num_samples)\n",
    " B - matrix containing the other half of the pseudo-random (# params, num_samples)\n",
    "     samples\n",
    "\"\"\"\n",
    "\n",
    "function Ci(i, A, B) \n",
    "    C = copy(B) # super necessary to copy B or else it will get overwritten\n",
    "    C[i,:] = A[i,:]\n",
    "    return C\n",
    "end\n",
    "\n",
    "\n",
    "function loss(truth, sol, tpts, max_t)\n",
    "    \"\"\" loss computes MAPE (averaged across timepoints length(sol) - tpts  to length(sol)) and ground truth weighted by a weight vector\n",
    "    truth (Vector): vector containing the ground truth\n",
    "    pred (Matrix): matrix with shape (variables, timepoints)\n",
    "    t_start (integer): first timepoint to pull to compute an average across time\n",
    "    t_end (integer): last timepoint to pull to compute an average across time\n",
    "    \"\"\"\n",
    "    \n",
    "    # average the losses from the 3 species since we only observed their summed biomass\n",
    "    s = abs((sum(truth[1:3]) - sum(center(sol, tpts,max_t)[1:3,:])) ./sum(truth[1:3]))\n",
    "    \n",
    "    # compute the remaining losses for p, h, and a and return the average\n",
    "    return (s + sum(broadcast(abs, (truth[4:6]-center(sol, tpts,max_t)[4:6,:]) ./ truth[4:6] )))/4\n",
    "end\n",
    "\n",
    "\"\"\"\n",
    "sample: takes in a matrix of parameter values and outputs the correponding output\n",
    "\n",
    "p: shape (# parameters, # samples)\n",
    "\n",
    "Output: \n",
    "\"\"\"\n",
    "function sample(p)\n",
    "    # p has shape (params, # samples)\n",
    "    l = size(p)[2]\n",
    "    u0 = [0.0004706; 0.0004706; 0.0004706; 9.7079; 7.9551; 32.061]\n",
    "    max_t = 250.0\n",
    "    tspan = (0.0,max_t)\n",
    "    \n",
    "    # create the ODEProblem for each parameter sample\n",
    "    prob = [ODEProblem(f,u0,tspan,p[:,n]) for n in 1:l]\n",
    "    \n",
    "    # solve the ODEProblem for each parameter sample\n",
    "    #sol = [solve(prob[n], Tsit5(),reltol=1e-6) for n in 1:l]\n",
    "    sol = [solve(prob[n],Rodas4()) for n in 1:l]\n",
    "\n",
    "    # pull only the last 100 timepoints of the ODE solution to compute metrics for\n",
    "    tpts = 50\n",
    "    \n",
    "    #losses = [loss(u0, sol[n], tpts, max_t) for n in 1:l]\n",
    "    \n",
    "    return [mean(sol[n], dims = 2) for n in 1:l] #[center(sol[n], tpts, max_t) for n in 1:l] , losses\n",
    "end\n",
    "\n",
    "center(sol, tpts, max_t) = (maximum(sol((max_t-tpts):max_t), dims=2) + minimum(sol((max_t-tpts):max_t), dims=2))/2"
   ]
  },
  {
   "cell_type": "code",
   "execution_count": 36,
   "id": "dbe1b043-3d55-43fe-9ec3-7cd158e46a47",
   "metadata": {
    "tags": []
   },
   "outputs": [],
   "source": [
    "using QuasiMonteCarlo\n",
    "using Statistics\n"
   ]
  },
  {
   "cell_type": "code",
   "execution_count": 37,
   "id": "c298bb4f-4f2b-4b70-9675-d5c6bff1c9ee",
   "metadata": {
    "tags": []
   },
   "outputs": [
    {
     "data": {
      "text/plain": [
       "20×5 Matrix{Float64}:\n",
       "     4.29496e5       9.29496e5  …       1.79496e5       5.54496e5\n",
       "     1.03059         6.03059            3.53059         4.78059\n",
       "     8.01994         3.01994            0.519936        1.76994\n",
       "     3.54258         8.54258            1.04258         4.79258\n",
       "   211.45          711.45             961.45          336.45\n",
       " 22394.1         72394.1        …   47394.1          9894.06\n",
       " 31455.3         81455.3             6455.27        43955.3\n",
       "     7.61636         2.61636            0.116359        1.36636\n",
       "     2.93491         7.93491            0.434912        9.18491\n",
       " 49716.6         99716.6            74716.6         37216.6\n",
       "  2456.6          7456.6        …    4956.6          1206.6\n",
       "   768.12         5768.12            3268.12         9518.12\n",
       "  7504.36         2504.36               4.36454      6254.36\n",
       "  9597.57         4597.57            2097.57         3347.57\n",
       " 64799.0        564799.0           814799.0        189799.0\n",
       " 39745.0        539745.0        …  289745.0        914745.0\n",
       " 25599.7         75599.7            50599.7         13099.7\n",
       "     1.01891e7       6.01891e7          8.51891e7       2.26891e7\n",
       "     9.22558e7       4.22558e7          1.72558e7       7.97558e7\n",
       "     1.91524         6.91524            4.41524         5.66524"
      ]
     },
     "execution_count": 37,
     "metadata": {},
     "output_type": "execute_result"
    }
   ],
   "source": [
    "# specify the upper and lower limits of the parameter ranges\n",
    "upper_b =  [1e6, 10,10,10,1000,1e5,1e5,10,10,1e5,1e4,1e4,1e4,1e4,1e6,1e6,1e5,1e8,1e8,10]\n",
    "lower_b = repeat([0],length(upper_b))\n",
    "\n",
    "n_samples = 5#12\n",
    "\n",
    "# sample A and B\n",
    "sampler =LatticeRuleSample() # generates a sample -- seed is not fixed so we will get different draws every time this is called\n",
    "A = QuasiMonteCarlo.sample(n_samples, lower_b, upper_b, sampler)\n",
    "B = QuasiMonteCarlo.sample(n_samples, lower_b, upper_b, sampler) # A, B are shapes (# params, num_samples)"
   ]
  },
  {
   "cell_type": "code",
   "execution_count": 38,
   "id": "d86e58a4-9a61-4882-ac46-826ef6132932",
   "metadata": {
    "tags": []
   },
   "outputs": [
    {
     "name": "stdout",
     "output_type": "stream",
     "text": [
      "19:02:28\n",
      "19:02:30\n"
     ]
    },
    {
     "ename": "KeyError",
     "evalue": "KeyError: key \"usage_request\" not found",
     "output_type": "error",
     "traceback": [
      "KERNEL EXCEPTION",
      "KeyError: key \"usage_request\" not found",
      "",
      "Stacktrace:",
      " [1] getindex(h::Dict{String, Function}, key::String)",
      "   @ Base ./dict.jl:498",
      " [2] eventloop(socket::ZMQ.Socket)",
      "   @ IJulia /global/common/software/nersc/pm-2022q3/sw/julia-2022-09-24/packages/gnu/1.8.0-beta1/julia/packages/IJulia/AQu2H/src/eventloop.jl:8",
      " [3] (::IJulia.var\"#14#17\")()",
      "   @ IJulia ./task.jl:476"
     ]
    },
    {
     "ename": "KeyError",
     "evalue": "KeyError: key \"usage_request\" not found",
     "output_type": "error",
     "traceback": [
      "KERNEL EXCEPTION",
      "KeyError: key \"usage_request\" not found",
      "",
      "Stacktrace:",
      " [1] getindex(h::Dict{String, Function}, key::String)",
      "   @ Base ./dict.jl:498",
      " [2] eventloop(socket::ZMQ.Socket)",
      "   @ IJulia /global/common/software/nersc/pm-2022q3/sw/julia-2022-09-24/packages/gnu/1.8.0-beta1/julia/packages/IJulia/AQu2H/src/eventloop.jl:8",
      " [3] (::IJulia.var\"#14#17\")()",
      "   @ IJulia ./task.jl:476"
     ]
    }
   ],
   "source": [
    "using Dates\n",
    "println(Dates.format(now(), \"HH:MM:SS\") )\n",
    "sample(A)\n",
    "sample(B)\n",
    "[sample(B) for n in 1:20]\n",
    "println(Dates.format(now(), \"HH:MM:SS\") )"
   ]
  },
  {
   "cell_type": "code",
   "execution_count": 2,
   "id": "fbd230c8-94a5-4d94-9e24-73443cf34bce",
   "metadata": {},
   "outputs": [
    {
     "data": {
      "text/plain": [
       "20-element Vector{Float64}:\n",
       " 160783.43805659568\n",
       "      0.6387385039057071\n",
       "      0.42447189270225255\n",
       "      0.2616768347915121\n",
       "    205.99091389998645\n",
       "  16285.778663361489\n",
       "   5014.528799758551\n",
       "      0.37490528008667245\n",
       "      0.22820391005218382\n",
       "    532.4383163051334\n",
       "    119.21133026293779\n",
       "      5.616199052704344\n",
       "     66.31328793500653\n",
       "    205.98386060879025\n",
       "  24823.981706455463\n",
       "  19520.284844456735\n",
       "   1654.8224174516608\n",
       " 170649.49513407532\n",
       "      2.6215859166121334e6\n",
       "      0.027145566895013365"
      ]
     },
     "execution_count": 2,
     "metadata": {},
     "output_type": "execute_result"
    }
   ],
   "source": [
    "using JLD2\n",
    "# load in estimated parameters \n",
    "NM_params = load(\"/pscratch/sd/m/maadrian/gut_microbiota/params.jld2\")[\"data\"]\n",
    "\n",
    "# specify the upper and lower limits of the parameter ranges\n",
    "upper_b =  NM_params*5\n",
    "lower_b = NM_params/2"
   ]
  },
  {
   "cell_type": "code",
   "execution_count": 3,
   "id": "5d1f259a-60fa-4dba-b94b-b872d301390f",
   "metadata": {
    "tags": []
   },
   "outputs": [
    {
     "data": {
      "text/plain": [
       "20-element Vector{Float64}:\n",
       "      1.6078343805659567e6\n",
       "      6.387385039057071\n",
       "      4.244718927022525\n",
       "      2.616768347915121\n",
       "   2059.9091389998644\n",
       " 162857.7866336149\n",
       "  50145.28799758551\n",
       "      3.7490528008667248\n",
       "      2.282039100521838\n",
       "   5324.383163051334\n",
       "   1192.1133026293778\n",
       "     56.16199052704344\n",
       "    663.1328793500653\n",
       "   2059.8386060879025\n",
       " 248239.81706455463\n",
       " 195202.84844456735\n",
       "  16548.22417451661\n",
       "      1.7064949513407531e6\n",
       "      2.6215859166121334e7\n",
       "      0.2714556689501336"
      ]
     },
     "execution_count": 3,
     "metadata": {},
     "output_type": "execute_result"
    }
   ],
   "source": [
    "upper_b"
   ]
  },
  {
   "cell_type": "code",
   "execution_count": null,
   "id": "8c7f44cc-6c73-44f5-abde-bfcc64df69d8",
   "metadata": {},
   "outputs": [],
   "source": []
  }
 ],
 "metadata": {
  "kernelspec": {
   "display_name": "Julia 1.8.0-beta1",
   "language": "julia",
   "name": "julia-1.8"
  },
  "language_info": {
   "file_extension": ".jl",
   "mimetype": "application/julia",
   "name": "julia",
   "version": "1.8.0"
  }
 },
 "nbformat": 4,
 "nbformat_minor": 5
}
