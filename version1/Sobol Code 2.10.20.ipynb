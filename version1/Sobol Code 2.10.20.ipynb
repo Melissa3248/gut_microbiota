{
 "cells": [
  {
   "cell_type": "markdown",
   "metadata": {},
   "source": [
    "# Sobol Code"
   ]
  },
  {
   "cell_type": "code",
   "execution_count": 68,
   "metadata": {},
   "outputs": [
    {
     "data": {
      "text/plain": [
       "1"
      ]
     },
     "execution_count": 68,
     "metadata": {},
     "output_type": "execute_result"
    }
   ],
   "source": [
    "Threads.nthreads()"
   ]
  },
  {
   "cell_type": "code",
   "execution_count": 39,
   "metadata": {},
   "outputs": [
    {
     "data": {
      "text/plain": [
       "Ci (generic function with 1 method)"
      ]
     },
     "execution_count": 39,
     "metadata": {},
     "output_type": "execute_result"
    }
   ],
   "source": [
    "# Ci - function that changes column i of the matrix B to the ith column of matrix A\n",
    "# i - column number to be changed in matrix B\n",
    "function Ci(i, A, B)\n",
    "    C = zeros(size(B))\n",
    "    for j in 1:size(A)[2]\n",
    "        if j == i\n",
    "            C[:,i] = A[:,i]\n",
    "        else\n",
    "            C[:,j] = B[:,j] \n",
    "        end\n",
    "    end\n",
    "    return C\n",
    "end"
   ]
  },
  {
   "cell_type": "code",
   "execution_count": 57,
   "metadata": {},
   "outputs": [
    {
     "data": {
      "text/plain": [
       "solveODE1 (generic function with 1 method)"
      ]
     },
     "execution_count": 57,
     "metadata": {},
     "output_type": "execute_result"
    }
   ],
   "source": [
    "# solveODE - function that returns a matrix of variable outputs (solutions to the differential equation at time t) for\n",
    "# each simulation N\n",
    "# M - matrix with rows as parameter values and columns as simulations\n",
    "using DifferentialEquations\n",
    "function solveODE1(f, u0, vars, tspan, t, M, N)\n",
    "    y = zeros(N,vars) # (simulation, variable)\n",
    "    \n",
    "    for sim in 1:N\n",
    "        p = M[sim,:]\n",
    "        prob = ODEProblem(f,u0,tspan,p)\n",
    "        sol = solve(prob, Rosenbrock23())\n",
    "        \n",
    "        for variable in 1:vars\n",
    "            y[sim,variable] = sol.u[t][variable]\n",
    "        end\n",
    "    end \n",
    "    return y # matrix of model outputs\n",
    "end"
   ]
  },
  {
   "cell_type": "code",
   "execution_count": 59,
   "metadata": {},
   "outputs": [
    {
     "data": {
      "text/plain": [
       "sobol (generic function with 3 methods)"
      ]
     },
     "execution_count": 59,
     "metadata": {},
     "output_type": "execute_result"
    }
   ],
   "source": [
    "# f - system of ODEs\n",
    "# N - number of simulations (can vary from hundreds to thousands)\n",
    "# u0 - vector of initial conditions for ODE\n",
    "# tspan - time span\n",
    "# μ - vector of means from N(μi,σi^2) for all parameters\n",
    "# σ - vector of standard deviations from N(μi,σi^2) for all parameters\n",
    "# index - default is the first order index, but can take on the other value \"total-order\"\n",
    "# sobol - function that returns the sensitivity indicies for every parameter/variable combination\n",
    "\n",
    "using Sobol\n",
    "using Distributions  \n",
    "function sobol(f, N, u0, tspan, α, θ, index = \"first-order\", t = 5)   \n",
    "    k = length(α)\n",
    "    vars = length(u0)\n",
    "\n",
    "    # quasi-randomly selected points\n",
    "    S = zeros(N,2*k)\n",
    "    s = SobolSeq(2*k)\n",
    "    θ = [θ;θ]\n",
    "    α = [α;α]\n",
    "    \n",
    "    S = zeros(N,2*k)\n",
    "    for sim in 1:N\n",
    "        S[sim,:] = next!(s)' # horizontal vector with the simulated values for each parameter\n",
    "        for parameter in 1:2*k\n",
    "            S[sim,parameter] = quantile(Gamma(α[parameter], θ[parameter]),S[sim,parameter])\n",
    "        end\n",
    "    end\n",
    "    \n",
    "    A = S[:, 1:k] # accounts for half the random sample\n",
    "    B = S[:, (k+1):2*k] # accounts for second half of the random sample\n",
    "    \n",
    "    sums = zeros(4,vars)\n",
    "    ya = solveODE1(f, u0, vars, tspan, t, A, N)   \n",
    "    yb = solveODE1(f, u0, vars, tspan, t, B, N)   \n",
    "    sumC = zeros(k,vars) # (parameter, variable)\n",
    "    \n",
    "    for parameter in 1:k # iterates through changing one column of C at a time (parameters)\n",
    "        C = Ci(parameter,A,B)\n",
    "        yc = solveODE1(f, u0, vars, tspan, t, C, N)\n",
    "        \n",
    "        for variable in 1:vars\n",
    "            if index == \"first-order\"\n",
    "                sumC[parameter,variable] = yc[:,variable]'*ya[:,variable]/N\n",
    "            else\n",
    "                sumC[parameter,variable] = yc[:,variable]'*yb[:,variable]/N\n",
    "            end\n",
    "        end\n",
    "    end  \n",
    "    \n",
    "    sensitivities = zeros(k,vars) # (parameter, variable)\n",
    "    \n",
    "    for variable in 1:vars   \n",
    "        sums[1,variable] = ya[:,variable]'*ya[:,variable]/N # sum(ya^2)/N \n",
    "        sums[2,variable] = (sum(ya[:,variable])/N)^2 # [sum(ya)/N]^2 \n",
    "        sums[3,variable] = sums[1, variable] - sums[2, variable] # denominator for sensitivity calculation\n",
    "        sums[4,variable] = sum(yb[:,variable])*sum(ya[:,variable])/N.^2 # sum(ya)*sum(yb)/N^2\n",
    "        \n",
    "        for parameter in 1:k\n",
    "            if index == \"first-order\"\n",
    "                sensitivities[parameter,variable] = (sumC[parameter,variable] - sums[4,variable])/sums[3,variable]\n",
    "            else\n",
    "                sensitivities[parameter,variable] = 1 - (sumC[parameter,variable] - sums[2,variable])/sums[3,variable]\n",
    "            end\n",
    "        end\n",
    "    end\n",
    "    return sensitivities\n",
    "end"
   ]
  },
  {
   "cell_type": "markdown",
   "metadata": {},
   "source": [
    "# Full Model Sobol Indices"
   ]
  },
  {
   "cell_type": "code",
   "execution_count": null,
   "metadata": {},
   "outputs": [],
   "source": [
    "ψ(u, γ) = u./(γ+u)\n",
    "using DifferentialEquations\n",
    "#q = 0.05\n",
    "function g(du,u,p0,t)\n",
    "    B, E, M, a, h, p = u\n",
    "    βb, γp, q, βE1, γa, γB, βE2, βM1, βM2, γh, βa, μaE, μaM, βh1, βh2, μhM, βp, μpB, μpE = p0\n",
    "    \n",
    "    du[1]= βb.*ψ(u[6],γp).*u[1] - q.*u[1]\n",
    "    du[2] = (βE1.*ψ(u[4], γa) + βE2.*(1-ψ(u[1], γB)).*ψ(u[6], γp)).*u[2] - q.*u[2]\n",
    "    du[3] = (βM1.*ψ(u[4], γa) + βM2.*ψ(u[5], γh)).*u[3] - q.*u[3]\n",
    "    \n",
    "    du[4] = βa.*ψ(u[6], γp).*u[1] - q.*u[4] - (μaE.*u[2] + μaM.*u[3]).*u[4]\n",
    "    du[5] = βh1.*ψ(u[4], γa).*u[2] + βh2.*ψ(u[6], γp).*u[1] - q.*u[5] - μhM.*u[5].*u[3]\n",
    "    du[6] = βp.*q.*(cos.(t)+1).^3 - q.*u[6] - (μpB.*u[1] + μpE.*u[2]).*u[6]\n",
    "end\n",
    "u0 = [0.0004706; 0.0004706; 0.0004706; 9.7079; 7.9551; 32.061]\n",
    "tspan = (0.0,50.0);"
   ]
  },
  {
   "cell_type": "code",
   "execution_count": null,
   "metadata": {},
   "outputs": [],
   "source": [
    "#k = [3.33e6; 0.4; 0.27; 0.2; 50.; 1.11e4; 0.27; 0.17; 3.33e3;\n",
    "#    66.67; 3.33; 50.; 133.33;\n",
    "#    8.33e3; 1.67e4; 13.89; 6.67e4; 1.67e3;\n",
    "#    0.02]\n",
    "#θ = fill(3.0,19);"
   ]
  },
  {
   "cell_type": "code",
   "execution_count": null,
   "metadata": {},
   "outputs": [],
   "source": [
    "k = [5.0e6;               \n",
    "      0.6;   \n",
    "      0.4;  \n",
    "      0.3; \n",
    "     75.0;\n",
    "  16666.67;\n",
    "      0.40;\n",
    "      0.25;\n",
    "   5000.0;\n",
    "    100.0;\n",
    "      5.0;\n",
    "     75.0;\n",
    "    200.0;\n",
    "  12500.0;\n",
    "  25000.0;\n",
    "     20.83;\n",
    " 100000.0;\n",
    "   2500.0;\n",
    "      0.025]\n",
    "θ = fill(2.0,19);"
   ]
  },
  {
   "cell_type": "code",
   "execution_count": null,
   "metadata": {},
   "outputs": [],
   "source": [
    "firstOrder = sobol(g, 2^18, u0, tspan, k, θ)"
   ]
  },
  {
   "cell_type": "code",
   "execution_count": null,
   "metadata": {},
   "outputs": [],
   "source": [
    "F = zeros(6,1)\n",
    "for i in 1:6\n",
    "    F[i,1] = sum(firstOrder[:,i])\n",
    "end\n",
    "F"
   ]
  },
  {
   "cell_type": "code",
   "execution_count": null,
   "metadata": {},
   "outputs": [],
   "source": [
    "using DelimitedFiles\n",
    "writedlm(\"First-Order-1-22.csv\",  firstOrder, ',')"
   ]
  },
  {
   "cell_type": "code",
   "execution_count": null,
   "metadata": {},
   "outputs": [],
   "source": [
    "totalOrder = sobol(g, 2^18, u0, tspan, k, θ, \"total-effects\")"
   ]
  },
  {
   "cell_type": "code",
   "execution_count": null,
   "metadata": {},
   "outputs": [],
   "source": [
    "T = zeros(6,1)\n",
    "for i in 1:6\n",
    "    T[i,1] = sum(totalOrder[:,i])\n",
    "end\n",
    "T"
   ]
  },
  {
   "cell_type": "code",
   "execution_count": null,
   "metadata": {},
   "outputs": [],
   "source": [
    "writedlm(\"Total-Order-1-22.csv\",  totalOrder, ',')"
   ]
  }
 ],
 "metadata": {
  "@webio": {
   "lastCommId": null,
   "lastKernelId": null
  },
  "kernelspec": {
   "display_name": "Julia 1.3.0",
   "language": "julia",
   "name": "julia-1.3"
  },
  "language_info": {
   "file_extension": ".jl",
   "mimetype": "application/julia",
   "name": "julia",
   "version": "1.3.0"
  }
 },
 "nbformat": 4,
 "nbformat_minor": 2
}
